{
 "cells": [
  {
   "cell_type": "code",
   "execution_count": 40,
   "id": "bae8434d-ed38-4717-878d-960acc6c040b",
   "metadata": {},
   "outputs": [],
   "source": [
    "import numpy as np\n",
    "import pandas as pd\n",
    "import pyarrow as pa\n",
    "import pyarrow.parquet as pq\n",
    "import os\n",
    "import regex as re\n",
    "from tqdm import tqdm"
   ]
  },
  {
   "cell_type": "markdown",
   "id": "6c3618a0",
   "metadata": {},
   "source": [
    "# Data Reading"
   ]
  },
  {
   "cell_type": "code",
   "execution_count": 2,
   "id": "e669e0e0",
   "metadata": {},
   "outputs": [],
   "source": [
    "data = pd.read_pickle(\"./WESAD/S2/S2.pkl\")"
   ]
  },
  {
   "cell_type": "code",
   "execution_count": 3,
   "id": "83f4b103",
   "metadata": {},
   "outputs": [
    {
     "data": {
      "text/plain": [
       "dict_keys(['signal', 'label', 'subject'])"
      ]
     },
     "execution_count": 3,
     "metadata": {},
     "output_type": "execute_result"
    }
   ],
   "source": [
    "data.keys()"
   ]
  },
  {
   "cell_type": "code",
   "execution_count": 4,
   "id": "be294eed",
   "metadata": {},
   "outputs": [
    {
     "data": {
      "text/plain": [
       "dict_keys(['chest', 'wrist'])"
      ]
     },
     "execution_count": 4,
     "metadata": {},
     "output_type": "execute_result"
    }
   ],
   "source": [
    "data['signal'].keys()"
   ]
  },
  {
   "cell_type": "code",
   "execution_count": 5,
   "id": "39ef2fce",
   "metadata": {},
   "outputs": [
    {
     "data": {
      "text/plain": [
       "dict_keys(['ACC', 'ECG', 'EMG', 'EDA', 'Temp', 'Resp'])"
      ]
     },
     "execution_count": 5,
     "metadata": {},
     "output_type": "execute_result"
    }
   ],
   "source": [
    "data['signal']['chest'].keys()"
   ]
  },
  {
   "cell_type": "code",
   "execution_count": 6,
   "id": "f2a921b7",
   "metadata": {},
   "outputs": [
    {
     "data": {
      "text/plain": [
       "dict_keys(['ACC', 'BVP', 'EDA', 'TEMP'])"
      ]
     },
     "execution_count": 6,
     "metadata": {},
     "output_type": "execute_result"
    }
   ],
   "source": [
    "data['signal']['wrist'].keys()"
   ]
  },
  {
   "cell_type": "code",
   "execution_count": 7,
   "id": "5e8b97e0",
   "metadata": {},
   "outputs": [
    {
     "data": {
      "text/plain": [
       "4255300"
      ]
     },
     "execution_count": 7,
     "metadata": {},
     "output_type": "execute_result"
    }
   ],
   "source": [
    "len(data['label']) # This is taken at 700Hz"
   ]
  },
  {
   "cell_type": "code",
   "execution_count": 8,
   "id": "3361b516",
   "metadata": {},
   "outputs": [
    {
     "data": {
      "text/plain": [
       "4255300"
      ]
     },
     "execution_count": 8,
     "metadata": {},
     "output_type": "execute_result"
    }
   ],
   "source": [
    "len(data['signal']['chest']['ACC']) # This one is also sampled at 700Hz\n",
    "\n",
    "# Notice we have a total of 6079 seconds of samples, which is the amount of samples divided by the frequency."
   ]
  },
  {
   "cell_type": "code",
   "execution_count": 9,
   "id": "797be983",
   "metadata": {},
   "outputs": [
    {
     "data": {
      "text/plain": [
       "194528"
      ]
     },
     "execution_count": 9,
     "metadata": {},
     "output_type": "execute_result"
    }
   ],
   "source": [
    "len(data['signal']['wrist']['ACC']) # Here instead is sampled at 32Hz"
   ]
  },
  {
   "cell_type": "markdown",
   "id": "0ce5a6be",
   "metadata": {},
   "source": [
    "# Data Encoding\n",
    "We would like to encode our data into a pyarrow tables. This will allow us to save our files into parquet which will be later read into apache spark from HDFS."
   ]
  },
  {
   "cell_type": "code",
   "execution_count": 49,
   "id": "86e1ca18",
   "metadata": {},
   "outputs": [
    {
     "name": "stdout",
     "output_type": "stream",
     "text": [
      "FEATURES: \n",
      "dict_keys(['ACC', 'ECG', 'EMG', 'EDA', 'Temp', 'Resp'])\n",
      "DATA STRUCTURE: \n",
      "{'ACC': array([[ 0.95539999, -0.222     , -0.55799997],\n",
      "       [ 0.92579997, -0.2216    , -0.55379999],\n",
      "       [ 0.90820003, -0.21960002, -0.53920001],\n",
      "       ...,\n",
      "       [ 0.87179995, -0.12379998, -0.30419999],\n",
      "       [ 0.87300003, -0.12339997, -0.30260003],\n",
      "       [ 0.87020004, -0.12199998, -0.30220002]]), 'ECG': array([[ 0.02142334],\n",
      "       [ 0.02032471],\n",
      "       [ 0.01652527],\n",
      "       ...,\n",
      "       [-0.00544739],\n",
      "       [ 0.00013733],\n",
      "       [ 0.0040741 ]]), 'EMG': array([[-0.00444031],\n",
      "       [ 0.00434875],\n",
      "       [ 0.00517273],\n",
      "       ...,\n",
      "       [-0.01716614],\n",
      "       [-0.02897644],\n",
      "       [-0.02357483]]), 'EDA': array([[5.25054932],\n",
      "       [5.26733398],\n",
      "       [5.24330139],\n",
      "       ...,\n",
      "       [0.36048889],\n",
      "       [0.36582947],\n",
      "       [0.365448  ]]), 'Temp': array([[30.120758],\n",
      "       [30.129517],\n",
      "       [30.138214],\n",
      "       ...,\n",
      "       [31.459229],\n",
      "       [31.484283],\n",
      "       [31.456268]], dtype=float32), 'Resp': array([[-1.14898682],\n",
      "       [-1.12457275],\n",
      "       [-1.15203857],\n",
      "       ...,\n",
      "       [-1.10321045],\n",
      "       [-1.08642578],\n",
      "       [-1.09710693]])}\n",
      "LABELS: \n",
      "[0 0 0 ... 0 0 0]\n"
     ]
    }
   ],
   "source": [
    "# First we need to decide what columns to make. These will be our features.\n",
    "# We will ignore wrist signals for the moment and will see later if we can use them.\n",
    "print('FEATURES: \\n' + str(data['signal']['chest'].keys())) # Features\n",
    "print('DATA STRUCTURE: \\n' + str(data['signal']['chest']))        # Some data\n",
    "print('LABELS: \\n' + str(data['label']))                    # Labels"
   ]
  },
  {
   "cell_type": "code",
   "execution_count": 51,
   "id": "63795c6e",
   "metadata": {},
   "outputs": [],
   "source": [
    "# Split the multi-value column in three different features\n",
    "ACC = np.squeeze(np.split(data['signal']['chest']['ACC'], indices_or_sections=3, axis=1))"
   ]
  },
  {
   "cell_type": "code",
   "execution_count": 54,
   "id": "71fd3f1b",
   "metadata": {},
   "outputs": [
    {
     "data": {
      "text/plain": [
       "{'ACC_1': array([0.95539999, 0.92579997, 0.90820003, ..., 0.87179995, 0.87300003,\n",
       "        0.87020004]),\n",
       " 'ACC_2': array([-0.222     , -0.2216    , -0.21960002, ..., -0.12379998,\n",
       "        -0.12339997, -0.12199998]),\n",
       " 'ACC_3': array([-0.55799997, -0.55379999, -0.53920001, ..., -0.30419999,\n",
       "        -0.30260003, -0.30220002]),\n",
       " 'ECG': array([ 0.02142334,  0.02032471,  0.01652527, ..., -0.00544739,\n",
       "         0.00013733,  0.0040741 ]),\n",
       " 'EMG': array([-0.00444031,  0.00434875,  0.00517273, ..., -0.01716614,\n",
       "        -0.02897644, -0.02357483]),\n",
       " 'EDA': array([5.25054932, 5.26733398, 5.24330139, ..., 0.36048889, 0.36582947,\n",
       "        0.365448  ]),\n",
       " 'Temp': array([30.120758, 30.129517, 30.138214, ..., 31.459229, 31.484283,\n",
       "        31.456268], dtype=float32),\n",
       " 'Resp': array([-1.14898682, -1.12457275, -1.15203857, ..., -1.10321045,\n",
       "        -1.08642578, -1.09710693]),\n",
       " 'label': array([0, 0, 0, ..., 0, 0, 0])}"
      ]
     },
     "execution_count": 54,
     "metadata": {},
     "output_type": "execute_result"
    }
   ],
   "source": [
    "# Create a dictionary squeezing the data (this is due to their bi-dimensional nature, we remove the empty dimension)\n",
    "data_dict = {\n",
    "    'ACC_1': ACC[0],\n",
    "    'ACC_2': ACC[1],\n",
    "    'ACC_3': ACC[2],\n",
    "    'ECG': np.squeeze(data['signal']['chest']['ECG']),\n",
    "    'EMG': np.squeeze(data['signal']['chest']['EMG']),\n",
    "    'EDA': np.squeeze(data['signal']['chest']['EDA']),\n",
    "    'Temp': np.squeeze(data['signal']['chest']['Temp']),\n",
    "    'Resp': np.squeeze(data['signal']['chest']['Resp']),\n",
    "    'label': data['label']\n",
    "}\n",
    "\n",
    "data_dict"
   ]
  },
  {
   "cell_type": "code",
   "execution_count": 55,
   "id": "72adf23e",
   "metadata": {},
   "outputs": [
    {
     "data": {
      "text/plain": [
       "ACC_1: double\n",
       "ACC_2: double\n",
       "ACC_3: double\n",
       "ECG: double\n",
       "EMG: double\n",
       "EDA: double\n",
       "Temp: float\n",
       "Resp: double\n",
       "label: int32"
      ]
     },
     "execution_count": 55,
     "metadata": {},
     "output_type": "execute_result"
    }
   ],
   "source": [
    "table = pa.Table.from_pydict(data_dict)\n",
    "table.schema"
   ]
  },
  {
   "cell_type": "code",
   "execution_count": 41,
   "id": "0bc7aa82",
   "metadata": {},
   "outputs": [],
   "source": [
    "pq.write_table(table, './WESAD/S2/S2.parquet')"
   ]
  },
  {
   "cell_type": "markdown",
   "id": "534f6a0e",
   "metadata": {},
   "source": [
    "# Automatize Process\n",
    "Now we want to repeat the steps we did before for every data file."
   ]
  },
  {
   "cell_type": "code",
   "execution_count": 69,
   "id": "cb7fcbaa",
   "metadata": {},
   "outputs": [],
   "source": [
    "def write_data(path_to_pkl, path_to_parquet):\n",
    "    \"\"\"Function that given the path to a pickle file, loads into memory, squeeze some features and writes a pyarrow table to parquet file\n",
    "\n",
    "    Args:\n",
    "        path_to_pkl (string): the path to the pickle file\n",
    "        path_to_parquet (_type_): that path to the parquet file that will be saved\n",
    "    \"\"\"\n",
    "\n",
    "    data = pd.read_pickle(path_to_pkl)\n",
    "    \n",
    "    # Split the multi-value column in three different features\n",
    "    ACC = np.squeeze(np.split(data['signal']['chest']['ACC'], indices_or_sections=3, axis=1))\n",
    "\n",
    "    # Build the dictionary squeezing the features\n",
    "    data_dict = {\n",
    "        'ACC_1': ACC[0],\n",
    "        'ACC_2': ACC[1],\n",
    "        'ACC_3': ACC[2],\n",
    "        'ECG': np.squeeze(data['signal']['chest']['ECG']),\n",
    "        'EMG': np.squeeze(data['signal']['chest']['EMG']),\n",
    "        'EDA': np.squeeze(data['signal']['chest']['EDA']),\n",
    "        'Temp': np.squeeze(data['signal']['chest']['Temp']),\n",
    "        'Resp': np.squeeze(data['signal']['chest']['Resp']),\n",
    "        'label': data['label']\n",
    "    }\n",
    "\n",
    "    # Create pyarrow table\n",
    "    table = pa.Table.from_pydict(data_dict)\n",
    "\n",
    "    # Write parquet file into memory\n",
    "    pq.write_table(table, path_to_parquet)"
   ]
  },
  {
   "cell_type": "code",
   "execution_count": 72,
   "id": "f72df44e",
   "metadata": {},
   "outputs": [
    {
     "name": "stderr",
     "output_type": "stream",
     "text": [
      " 94%|█████████▍| 16/17 [02:16<00:08,  8.56s/it]\n"
     ]
    }
   ],
   "source": [
    "file_names = os.listdir('./WESAD/')\n",
    "for file, i in zip(file_names, tqdm(range(len(file_names)))):\n",
    "    if re.match(r'S[0-9]', file) != None:\n",
    "        write_data(f'./WESAD/{file}/{file}.pkl', f'./WESAD/parquet_data/{file}.parquet')"
   ]
  }
 ],
 "metadata": {
  "kernelspec": {
   "display_name": "Python 3 (ipykernel)",
   "language": "python",
   "name": "python3"
  },
  "language_info": {
   "codemirror_mode": {
    "name": "ipython",
    "version": 3
   },
   "file_extension": ".py",
   "mimetype": "text/x-python",
   "name": "python",
   "nbconvert_exporter": "python",
   "pygments_lexer": "ipython3",
   "version": "3.11.5"
  }
 },
 "nbformat": 4,
 "nbformat_minor": 5
}
