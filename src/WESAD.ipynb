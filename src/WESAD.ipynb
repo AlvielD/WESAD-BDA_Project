{
 "cells": [
  {
   "cell_type": "markdown",
   "id": "de67ffdc",
   "metadata": {},
   "source": [
    "# Initialize the HDFS and the resource manager\n",
    "Keep in mind these commands will vary depending on where do you have this notebook and where is installed your hadoop."
   ]
  },
  {
   "cell_type": "code",
   "execution_count": 1,
   "id": "e887ccf3",
   "metadata": {},
   "outputs": [
    {
     "name": "stdout",
     "output_type": "stream",
     "text": [
      "Starting namenodes on [localhost]\n",
      "Starting datanodes\n",
      "Starting secondary namenodes [debian]\n"
     ]
    }
   ],
   "source": [
    "# Start the dfs\n",
    "!./hadoop-3.3.6/sbin/start-dfs.sh"
   ]
  },
  {
   "cell_type": "code",
   "execution_count": 2,
   "id": "07e14d46",
   "metadata": {},
   "outputs": [
    {
     "name": "stdout",
     "output_type": "stream",
     "text": [
      "WARNING: YARN_CONF_DIR has been replaced by HADOOP_CONF_DIR. Using value of YARN_CONF_DIR.\n",
      "Starting resourcemanager\n",
      "WARNING: YARN_CONF_DIR has been replaced by HADOOP_CONF_DIR. Using value of YARN_CONF_DIR.\n",
      "Starting nodemanagers\n",
      "WARNING: YARN_CONF_DIR has been replaced by HADOOP_CONF_DIR. Using value of YARN_CONF_DIR.\n"
     ]
    }
   ],
   "source": [
    "# Start the resource manager (YARN in our case)\n",
    "!./hadoop-3.3.6/sbin/start-yarn.sh"
   ]
  },
  {
   "cell_type": "markdown",
   "id": "4c149700",
   "metadata": {},
   "source": [
    "# Imports and configurations"
   ]
  },
  {
   "cell_type": "code",
   "execution_count": 3,
   "id": "bf819788",
   "metadata": {},
   "outputs": [],
   "source": [
    "import os\n",
    "import pandas as pd\n",
    "\n",
    "# Pyspark modules\n",
    "from pyspark.sql import SparkSession\n",
    "from pyspark.sql.functions import col\n",
    "from pyspark.ml import Pipeline, Transformer\n",
    "from pyspark.ml.feature import VectorAssembler, StandardScaler, MinMaxScaler, UnivariateFeatureSelector\n",
    "from pyspark.ml.classification import DecisionTreeClassifier, RandomForestClassifier, NaiveBayes, LogisticRegression\n",
    "from pyspark.ml.classification import OneVsRest, MultilayerPerceptronClassifier\n",
    "from pyspark.ml.evaluation import MulticlassClassificationEvaluator\n",
    "\n",
    "from pprint import pprint"
   ]
  },
  {
   "cell_type": "code",
   "execution_count": 4,
   "id": "3e8cdc24",
   "metadata": {},
   "outputs": [
    {
     "name": "stdout",
     "output_type": "stream",
     "text": [
      "24/01/07 13:01:41 WARN SparkSession: Using an existing Spark session; only runtime SQL configurations will take effect.\n"
     ]
    }
   ],
   "source": [
    "# Create a SparkSession\n",
    "spark = SparkSession.builder \\\n",
    "    .appName(\"SparkSessionExample\") \\\n",
    "    .master(\"local[*]\") \\\n",
    "    .getOrCreate()"
   ]
  },
  {
   "cell_type": "code",
   "execution_count": 5,
   "id": "d21949af",
   "metadata": {
    "scrolled": true
   },
   "outputs": [
    {
     "name": "stdout",
     "output_type": "stream",
     "text": [
      "[('spark.executor.id', 'driver'),\n",
      " ('spark.driver.host', '10.0.2.15'),\n",
      " ('spark.driver.port', '34563'),\n",
      " ('spark.app.name', 'PySparkShell'),\n",
      " ('spark.app.startTime', '1704650228007'),\n",
      " ('spark.sql.catalogImplementation', 'hive'),\n",
      " ('spark.driver.extraJavaOptions',\n",
      "  '-XX:+IgnoreUnrecognizedVMOptions '\n",
      "  '--add-opens=java.base/java.lang=ALL-UNNAMED '\n",
      "  '--add-opens=java.base/java.lang.invoke=ALL-UNNAMED '\n",
      "  '--add-opens=java.base/java.lang.reflect=ALL-UNNAMED '\n",
      "  '--add-opens=java.base/java.io=ALL-UNNAMED '\n",
      "  '--add-opens=java.base/java.net=ALL-UNNAMED '\n",
      "  '--add-opens=java.base/java.nio=ALL-UNNAMED '\n",
      "  '--add-opens=java.base/java.util=ALL-UNNAMED '\n",
      "  '--add-opens=java.base/java.util.concurrent=ALL-UNNAMED '\n",
      "  '--add-opens=java.base/java.util.concurrent.atomic=ALL-UNNAMED '\n",
      "  '--add-opens=java.base/jdk.internal.ref=ALL-UNNAMED '\n",
      "  '--add-opens=java.base/sun.nio.ch=ALL-UNNAMED '\n",
      "  '--add-opens=java.base/sun.nio.cs=ALL-UNNAMED '\n",
      "  '--add-opens=java.base/sun.security.action=ALL-UNNAMED '\n",
      "  '--add-opens=java.base/sun.util.calendar=ALL-UNNAMED '\n",
      "  '--add-opens=java.security.jgss/sun.security.krb5=ALL-UNNAMED'),\n",
      " ('spark.rdd.compress', 'True'),\n",
      " ('spark.app.submitTime', '1704650227164'),\n",
      " ('spark.serializer.objectStreamReset', '100'),\n",
      " ('spark.sql.warehouse.dir', 'file:/home/hadoop/spark-warehouse'),\n",
      " ('spark.master', 'local[*]'),\n",
      " ('spark.submit.pyFiles', ''),\n",
      " ('spark.submit.deployMode', 'client'),\n",
      " ('spark.app.id', 'local-1704650229638'),\n",
      " ('spark.executor.extraJavaOptions',\n",
      "  '-XX:+IgnoreUnrecognizedVMOptions '\n",
      "  '--add-opens=java.base/java.lang=ALL-UNNAMED '\n",
      "  '--add-opens=java.base/java.lang.invoke=ALL-UNNAMED '\n",
      "  '--add-opens=java.base/java.lang.reflect=ALL-UNNAMED '\n",
      "  '--add-opens=java.base/java.io=ALL-UNNAMED '\n",
      "  '--add-opens=java.base/java.net=ALL-UNNAMED '\n",
      "  '--add-opens=java.base/java.nio=ALL-UNNAMED '\n",
      "  '--add-opens=java.base/java.util=ALL-UNNAMED '\n",
      "  '--add-opens=java.base/java.util.concurrent=ALL-UNNAMED '\n",
      "  '--add-opens=java.base/java.util.concurrent.atomic=ALL-UNNAMED '\n",
      "  '--add-opens=java.base/jdk.internal.ref=ALL-UNNAMED '\n",
      "  '--add-opens=java.base/sun.nio.ch=ALL-UNNAMED '\n",
      "  '--add-opens=java.base/sun.nio.cs=ALL-UNNAMED '\n",
      "  '--add-opens=java.base/sun.security.action=ALL-UNNAMED '\n",
      "  '--add-opens=java.base/sun.util.calendar=ALL-UNNAMED '\n",
      "  '--add-opens=java.security.jgss/sun.security.krb5=ALL-UNNAMED'),\n",
      " ('spark.ui.showConsoleProgress', 'true')]\n"
     ]
    }
   ],
   "source": [
    "# Get all configuration options\n",
    "conf = spark.sparkContext.getConf().getAll()\n",
    "pprint(conf)"
   ]
  },
  {
   "cell_type": "markdown",
   "id": "15b6ab07",
   "metadata": {},
   "source": [
    "# Read the data"
   ]
  },
  {
   "cell_type": "code",
   "execution_count": 6,
   "id": "e04470d3",
   "metadata": {},
   "outputs": [
    {
     "name": "stderr",
     "output_type": "stream",
     "text": [
      "[Stage 1:=============================>                             (4 + 2) / 8]\r"
     ]
    },
    {
     "name": "stdout",
     "output_type": "stream",
     "text": [
      "Total number of samples 60807600\n"
     ]
    },
    {
     "name": "stderr",
     "output_type": "stream",
     "text": [
      "\r",
      "                                                                                \r"
     ]
    }
   ],
   "source": [
    "# Spark accepts wildcards when reading data. (We load all partitions at once)\n",
    "df = spark.read.parquet('hdfs:///user/hadoop/WESAD_parquet/S*.parquet')\n",
    "print(f'Total number of samples {df.count()}')"
   ]
  },
  {
   "cell_type": "code",
   "execution_count": 7,
   "id": "1f02ae23",
   "metadata": {},
   "outputs": [
    {
     "name": "stdout",
     "output_type": "stream",
     "text": [
      "root\n",
      " |-- ACC_1: double (nullable = true)\n",
      " |-- ACC_2: double (nullable = true)\n",
      " |-- ACC_3: double (nullable = true)\n",
      " |-- ECG: double (nullable = true)\n",
      " |-- EMG: double (nullable = true)\n",
      " |-- EDA: double (nullable = true)\n",
      " |-- Temp: float (nullable = true)\n",
      " |-- Resp: double (nullable = true)\n",
      " |-- label: integer (nullable = true)\n",
      "\n"
     ]
    }
   ],
   "source": [
    "# Show data schema\n",
    "df.printSchema()"
   ]
  },
  {
   "cell_type": "code",
   "execution_count": 8,
   "id": "030fdc65",
   "metadata": {
    "scrolled": true
   },
   "outputs": [
    {
     "name": "stdout",
     "output_type": "stream",
     "text": [
      "+-------------------+--------------------+--------------------+-----+\n",
      "|              ACC_1|               ACC_2|               ACC_3|label|\n",
      "+-------------------+--------------------+--------------------+-----+\n",
      "|0.35099995136260986| -0.1905999779701233|  2.2841999530792236|    0|\n",
      "| 0.4421999454498291|-0.11419999599456787|    2.22160005569458|    0|\n",
      "| 0.5321999788284302|-0.05820000171661377|  1.9242000579833984|    0|\n",
      "| 0.6926000118255615|-9.99987125396728...|  1.4021999835968018|    0|\n",
      "| 0.9018000364303589| 0.04499995708465576|  0.6477999687194824|    0|\n",
      "| 1.1470000743865967| 0.06540000438690186|-0.26319998502731323|    0|\n",
      "| 1.4089999198913574|0.056800007820129395| -1.2230000495910645|    0|\n",
      "| 1.5896000862121582|0.017199993133544922| -2.0999999046325684|    0|\n",
      "|  1.661600112915039|  -0.053600013256073| -2.8071999549865723|    0|\n",
      "| 1.6314001083374023|-0.14539998769760132|  -3.272599935531616|    0|\n",
      "+-------------------+--------------------+--------------------+-----+\n",
      "only showing top 10 rows\n",
      "\n"
     ]
    }
   ],
   "source": [
    "# Show some features\n",
    "df.select(\"ACC_1\", \"ACC_2\", \"ACC_3\", 'label').show(10)"
   ]
  },
  {
   "cell_type": "markdown",
   "id": "9c56d793",
   "metadata": {},
   "source": [
    "We see data was loaded correctly and that we can display it succesfully."
   ]
  },
  {
   "cell_type": "markdown",
   "id": "f79b2ea5",
   "metadata": {},
   "source": [
    "# Exploratory Data Analysis (EDA) and Data Cleaning"
   ]
  },
  {
   "cell_type": "code",
   "execution_count": 9,
   "id": "ccbd75a2",
   "metadata": {},
   "outputs": [
    {
     "name": "stderr",
     "output_type": "stream",
     "text": [
      "                                                                                \r"
     ]
    },
    {
     "name": "stdout",
     "output_type": "stream",
     "text": [
      "+-------+-------------------+--------------------+--------------------+--------------------+--------------------+\n",
      "|summary|              ACC_1|               ACC_2|               ACC_3|                 ECG|                 EMG|\n",
      "+-------+-------------------+--------------------+--------------------+--------------------+--------------------+\n",
      "|  count|           60807600|            60807600|            60807600|            60807600|            60807600|\n",
      "|   mean| 0.8116865284321901|-0.04424838120623882|-0.25900813261880495|0.001064647998794382|-0.00303824747415...|\n",
      "| stddev|0.13125288401427787| 0.10388864087113163|  0.3321663786069044| 0.26868806452510596|0.017904851872606677|\n",
      "|    min| -6.599999904632568|  -6.599999904632568|  -6.599999904632568|                -1.5|                -1.5|\n",
      "|    max| 2.9814000129699707|  1.6089999675750732|   4.508200168609619|  1.4999542236328125|  1.4643402099609375|\n",
      "+-------+-------------------+--------------------+--------------------+--------------------+--------------------+\n",
      "\n"
     ]
    }
   ],
   "source": [
    "stats = df.describe(df.columns[0:5])\n",
    "stats.show()"
   ]
  },
  {
   "cell_type": "code",
   "execution_count": 10,
   "id": "6f64c51a",
   "metadata": {},
   "outputs": [
    {
     "name": "stderr",
     "output_type": "stream",
     "text": [
      "[Stage 8:============================================>              (6 + 2) / 8]\r"
     ]
    },
    {
     "name": "stdout",
     "output_type": "stream",
     "text": [
      "+-------+------------------+------------------+-------------------+------------------+\n",
      "|summary|               EDA|              Temp|               Resp|             label|\n",
      "+-------+------------------+------------------+-------------------+------------------+\n",
      "|  count|          60807600|          60807600|           60807600|          60807600|\n",
      "|   mean|  4.88823725419249|33.904942453534574|0.05424957702482945|1.3347263335504114|\n",
      "| stddev| 3.531246876893006|1.2169364535428147|  4.099115876402935|1.6283486656155444|\n",
      "|    min|               0.0|           -273.15|              -50.0|                 0|\n",
      "|    max|22.410964965820312|         35.778046|    38.800048828125|                 7|\n",
      "+-------+------------------+------------------+-------------------+------------------+\n",
      "\n"
     ]
    },
    {
     "name": "stderr",
     "output_type": "stream",
     "text": [
      "\r",
      "                                                                                \r"
     ]
    }
   ],
   "source": [
    "stats = df.describe(df.columns[5:])\n",
    "stats.show()"
   ]
  },
  {
   "cell_type": "markdown",
   "id": "852ac994",
   "metadata": {},
   "source": [
    "Notice there are not missing values, this will saves us some time since we won't need to deal with them."
   ]
  },
  {
   "cell_type": "markdown",
   "id": "55119826",
   "metadata": {},
   "source": [
    "# Data pipeline\n",
    "Here we define the pipeline followed by the data to be prepared for the training."
   ]
  },
  {
   "cell_type": "markdown",
   "id": "9c1ce347",
   "metadata": {},
   "source": [
    "As said in the dataset, labels from 5 to 7 should be ignored in this dataset. In addition, we want to classify only \n",
    "the classes \"baseline\", \"stress\" and \"amusement\", therefore we will also remove labels 0 and 4.\n",
    "\n",
    "We will also change the range of labels to avoid problems with some classifiers, like the Multilayer Perceptron.\n",
    "\n",
    "---\n",
    "\n",
    "Here we define a custom transformer which filters the dataframe using the designed filters. \n",
    "In our case we defined two filters:\n",
    "- Label != 0\n",
    "- Label < 4\n",
    "\n",
    "In this way, we will remove the labels [0, 4, 5, 6, 7]"
   ]
  },
  {
   "cell_type": "code",
   "execution_count": 11,
   "id": "644f024e",
   "metadata": {},
   "outputs": [],
   "source": [
    "# Extends Transformer class and override _transform method. We define our filters in the constructor.\n",
    "class DataCleaner(Transformer):\n",
    "    \n",
    "    def __init__(self, column_name=None, mean=None):\n",
    "        super().__init__()\n",
    "        self.filters = [\"label <> 0\", \"label < 4\"] # Set of filter applied by the transformer\n",
    "        \n",
    "    def _transform(self, dff):\n",
    "        \n",
    "        # Filter the dataframe for each filter in the set\n",
    "        for filt in self.filters:\n",
    "            dff = dff.filter(filt)\n",
    "            \n",
    "        # Move the range of labels from [1, 2, 3] to [0, 1, 2]\n",
    "        dff = dff.withColumn('label', col('label') - 1)\n",
    "            \n",
    "        return dff"
   ]
  },
  {
   "cell_type": "markdown",
   "id": "fb30cf1e",
   "metadata": {},
   "source": [
    "The ML model accepts dataframes in the shape of [features, label], then we need to assemble all the feature columns in one single column with all the values. Fortunately, there is a transformer that does this in spark, the \"VectorAssembler\".\n",
    "\n",
    "Also to avoid problems with some classifiers (like Naive Bayes) we rescale our features to avoid negative values. For this we use the \"MinMaxScaler\" which, by default, scales into the range [0,1]."
   ]
  },
  {
   "cell_type": "code",
   "execution_count": 12,
   "id": "10eba4c7",
   "metadata": {},
   "outputs": [],
   "source": [
    "feature_cols = ['ACC_1', 'ACC_2', 'ACC_3', 'ECG', 'EMG', 'EDA', 'Temp', 'Resp'] # Define feature columns\n",
    "\n",
    "dataCleaner = DataCleaner() # Custom data cleaner\n",
    "assembler = VectorAssembler(inputCols=feature_cols, outputCol='features') # Assembler for the feature columns\n",
    "scaler = MinMaxScaler(inputCol=\"features\", outputCol=\"scaledFeatures\")"
   ]
  },
  {
   "cell_type": "code",
   "execution_count": 13,
   "id": "b99ae021",
   "metadata": {},
   "outputs": [
    {
     "name": "stderr",
     "output_type": "stream",
     "text": [
      "                                                                                \r"
     ]
    }
   ],
   "source": [
    "# Create the pipeline with the stages followed by the data.\n",
    "pipeline = Pipeline(stages=[dataCleaner, assembler, scaler])\n",
    "\n",
    "# Fit pipeline model and transform data\n",
    "df_cleaned = pipeline.fit(df).transform(df)"
   ]
  },
  {
   "cell_type": "code",
   "execution_count": 14,
   "id": "b5e8f907",
   "metadata": {},
   "outputs": [
    {
     "name": "stdout",
     "output_type": "stream",
     "text": [
      "Number of samples after removing useless labeled ones: 23206404\n"
     ]
    }
   ],
   "source": [
    "print(f'Number of samples after removing useless labeled ones: {df_cleaned.count()}')"
   ]
  },
  {
   "cell_type": "markdown",
   "id": "48e82ab8",
   "metadata": {},
   "source": [
    "# Train the different ML models\n",
    "For this task we have chosen five classification algorithms\n",
    "1. Decision Tree\n",
    "2. Random Forest\n",
    "3. Naive Bayes\n",
    "4. Logistic Regression\n",
    "5. Multilayer Perceptron"
   ]
  },
  {
   "cell_type": "code",
   "execution_count": 15,
   "id": "42a9a29e",
   "metadata": {},
   "outputs": [],
   "source": [
    "# Split the data into train and test\n",
    "train_data, test_data = df_cleaned.randomSplit([0.7, 0.3], seed=42)"
   ]
  },
  {
   "cell_type": "code",
   "execution_count": 17,
   "id": "88373c0d",
   "metadata": {},
   "outputs": [],
   "source": [
    "# INSTANTIATE MODELS\n",
    "\n",
    "# Decision Tree\n",
    "dt = DecisionTreeClassifier(featuresCol='scaledFeatures', labelCol='label')\n",
    "\n",
    "# Random Forest\n",
    "rf = RandomForestClassifier(featuresCol='scaledFeatures', labelCol='label', seed=42)\n",
    "\n",
    "# Naive Bayes\n",
    "nb = NaiveBayes(featuresCol='scaledFeatures', labelCol='label', smoothing=0.5, modelType=\"multinomial\")\n",
    "\n",
    "# Logistic Regresssion with One Vs Rest approach\n",
    "lr = LogisticRegression(maxIter=10, tol=1E-6, fitIntercept=True, featuresCol='scaledFeatures', labelCol='label')\n",
    "ovr = OneVsRest(classifier=lr)\n",
    "\n",
    "# Multilayer Perceptron\n",
    "mlp = MultilayerPerceptronClassifier(layers=[8, 16, 32, 3], maxIter=20, \n",
    "                                     featuresCol='scaledFeatures', labelCol='label', seed=42)"
   ]
  },
  {
   "cell_type": "code",
   "execution_count": 18,
   "id": "0d2d1b50",
   "metadata": {},
   "outputs": [
    {
     "name": "stderr",
     "output_type": "stream",
     "text": [
      "[Stage 24:>                                                         (0 + 2) / 8]\r"
     ]
    },
    {
     "name": "stdout",
     "output_type": "stream",
     "text": [
      "24/01/07 13:07:57 WARN MemoryStore: Not enough space to cache rdd_74_1 in memory! (computed 147.6 MiB so far)\n",
      "24/01/07 13:07:57 WARN BlockManager: Persisting block rdd_74_1 to disk instead.\n",
      "24/01/07 13:07:57 WARN MemoryStore: Not enough space to cache rdd_74_0 in memory! (computed 147.6 MiB so far)\n",
      "24/01/07 13:07:57 WARN BlockManager: Persisting block rdd_74_0 to disk instead.\n",
      "24/01/07 13:08:01 WARN MemoryStore: Not enough space to cache rdd_74_0 in memory! (computed 157.6 MiB so far)\n"
     ]
    },
    {
     "name": "stderr",
     "output_type": "stream",
     "text": [
      "\r",
      "[Stage 24:=======>                                                  (1 + 2) / 8]\r",
      "\r",
      "[Stage 24:==============>                                           (2 + 2) / 8]\r"
     ]
    },
    {
     "name": "stdout",
     "output_type": "stream",
     "text": [
      "24/01/07 13:08:16 WARN MemoryStore: Not enough space to cache rdd_74_2 in memory! (computed 1044.8 KiB so far)\n",
      "24/01/07 13:08:16 WARN BlockManager: Persisting block rdd_74_2 to disk instead.\n",
      "24/01/07 13:08:18 WARN MemoryStore: Not enough space to cache rdd_74_3 in memory! (computed 147.6 MiB so far)\n",
      "24/01/07 13:08:18 WARN BlockManager: Persisting block rdd_74_3 to disk instead.\n",
      "24/01/07 13:08:22 WARN MemoryStore: Not enough space to cache rdd_74_2 in memory! (computed 157.6 MiB so far)\n"
     ]
    },
    {
     "name": "stderr",
     "output_type": "stream",
     "text": [
      "[Stage 24:=============================>                            (4 + 2) / 8]\r"
     ]
    },
    {
     "name": "stdout",
     "output_type": "stream",
     "text": [
      "24/01/07 13:08:40 WARN MemoryStore: Not enough space to cache rdd_74_5 in memory! (computed 147.6 MiB so far)\n",
      "24/01/07 13:08:40 WARN BlockManager: Persisting block rdd_74_5 to disk instead.\n",
      "24/01/07 13:08:41 WARN MemoryStore: Not enough space to cache rdd_74_4 in memory! (computed 221.4 MiB so far)\n",
      "24/01/07 13:08:41 WARN BlockManager: Persisting block rdd_74_4 to disk instead.\n",
      "24/01/07 13:08:44 WARN MemoryStore: Not enough space to cache rdd_74_4 in memory! (computed 157.6 MiB so far)\n"
     ]
    },
    {
     "name": "stderr",
     "output_type": "stream",
     "text": [
      "\r",
      "[Stage 24:===========================================>              (6 + 2) / 8]\r"
     ]
    },
    {
     "name": "stdout",
     "output_type": "stream",
     "text": [
      "24/01/07 13:08:54 WARN MemoryStore: Not enough space to cache rdd_74_7 in memory! (computed 65.6 MiB so far)\n",
      "24/01/07 13:08:54 WARN BlockManager: Persisting block rdd_74_7 to disk instead.\n",
      "24/01/07 13:08:57 WARN MemoryStore: Not enough space to cache rdd_74_7 in memory! (computed 157.6 MiB so far)\n"
     ]
    },
    {
     "name": "stderr",
     "output_type": "stream",
     "text": [
      "\r",
      "[Stage 24:==================================================>       (7 + 1) / 8]\r"
     ]
    },
    {
     "name": "stdout",
     "output_type": "stream",
     "text": [
      "24/01/07 13:09:00 WARN MemoryStore: Not enough space to cache rdd_74_6 in memory! (computed 147.6 MiB so far)\n",
      "24/01/07 13:09:00 WARN BlockManager: Persisting block rdd_74_6 to disk instead.\n"
     ]
    },
    {
     "name": "stderr",
     "output_type": "stream",
     "text": [
      "\r",
      "                                                                                \r"
     ]
    },
    {
     "name": "stdout",
     "output_type": "stream",
     "text": [
      "24/01/07 13:09:04 WARN MemoryStore: Not enough space to cache rdd_74_1 in memory! (computed 65.7 MiB so far)\n",
      "24/01/07 13:09:04 WARN MemoryStore: Not enough space to cache rdd_74_0 in memory! (computed 65.7 MiB so far)\n"
     ]
    },
    {
     "name": "stderr",
     "output_type": "stream",
     "text": [
      "[Stage 26:==============>                                           (2 + 2) / 8]\r"
     ]
    },
    {
     "name": "stdout",
     "output_type": "stream",
     "text": [
      "24/01/07 13:09:07 WARN MemoryStore: Not enough space to cache rdd_74_3 in memory! (computed 43.8 MiB so far)\n",
      "24/01/07 13:09:07 WARN MemoryStore: Not enough space to cache rdd_74_2 in memory! (computed 99.2 MiB so far)\n"
     ]
    },
    {
     "name": "stderr",
     "output_type": "stream",
     "text": [
      "\r",
      "[Stage 26:=============================>                            (4 + 2) / 8]\r"
     ]
    },
    {
     "name": "stdout",
     "output_type": "stream",
     "text": [
      "24/01/07 13:09:09 WARN MemoryStore: Not enough space to cache rdd_74_5 in memory! (computed 65.7 MiB so far)\n",
      "24/01/07 13:09:10 WARN MemoryStore: Not enough space to cache rdd_74_4 in memory! (computed 99.2 MiB so far)\n"
     ]
    },
    {
     "name": "stderr",
     "output_type": "stream",
     "text": [
      "[Stage 26:==================================================>       (7 + 1) / 8]\r"
     ]
    },
    {
     "name": "stdout",
     "output_type": "stream",
     "text": [
      "24/01/07 13:09:12 WARN MemoryStore: Not enough space to cache rdd_74_7 in memory! (computed 99.2 MiB so far)\n"
     ]
    },
    {
     "name": "stderr",
     "output_type": "stream",
     "text": [
      "\r",
      "                                                                                \r"
     ]
    },
    {
     "name": "stdout",
     "output_type": "stream",
     "text": [
      "24/01/07 13:09:13 WARN MemoryStore: Not enough space to cache rdd_74_1 in memory! (computed 65.7 MiB so far)\n",
      "24/01/07 13:09:13 WARN MemoryStore: Not enough space to cache rdd_74_0 in memory! (computed 65.7 MiB so far)\n"
     ]
    },
    {
     "name": "stderr",
     "output_type": "stream",
     "text": [
      "[Stage 28:==============>                                           (2 + 2) / 8]\r"
     ]
    },
    {
     "name": "stdout",
     "output_type": "stream",
     "text": [
      "24/01/07 13:09:15 WARN MemoryStore: Not enough space to cache rdd_74_2 in memory! (computed 65.7 MiB so far)\n",
      "24/01/07 13:09:15 WARN MemoryStore: Not enough space to cache rdd_74_3 in memory! (computed 65.7 MiB so far)\n"
     ]
    },
    {
     "name": "stderr",
     "output_type": "stream",
     "text": [
      "\r",
      "[Stage 28:=============================>                            (4 + 2) / 8]\r"
     ]
    },
    {
     "name": "stdout",
     "output_type": "stream",
     "text": [
      "24/01/07 13:09:17 WARN MemoryStore: Not enough space to cache rdd_74_5 in memory! (computed 43.8 MiB so far)\n",
      "24/01/07 13:09:17 WARN MemoryStore: Not enough space to cache rdd_74_4 in memory! (computed 99.2 MiB so far)\n"
     ]
    },
    {
     "name": "stderr",
     "output_type": "stream",
     "text": [
      "\r",
      "[Stage 28:====================================>                     (5 + 2) / 8]\r",
      "\r",
      "[Stage 28:==================================================>       (7 + 1) / 8]\r"
     ]
    },
    {
     "name": "stdout",
     "output_type": "stream",
     "text": [
      "24/01/07 13:09:19 WARN MemoryStore: Not enough space to cache rdd_74_7 in memory! (computed 99.2 MiB so far)\n"
     ]
    },
    {
     "name": "stderr",
     "output_type": "stream",
     "text": [
      "[Stage 30:>                                                         (0 + 2) / 8]\r"
     ]
    },
    {
     "name": "stdout",
     "output_type": "stream",
     "text": [
      "24/01/07 13:09:20 WARN MemoryStore: Not enough space to cache rdd_74_1 in memory! (computed 65.7 MiB so far)\n",
      "24/01/07 13:09:21 WARN MemoryStore: Not enough space to cache rdd_74_0 in memory! (computed 99.2 MiB so far)\n"
     ]
    },
    {
     "name": "stderr",
     "output_type": "stream",
     "text": [
      "[Stage 30:==============>                                           (2 + 2) / 8]\r"
     ]
    },
    {
     "name": "stdout",
     "output_type": "stream",
     "text": [
      "24/01/07 13:09:23 WARN MemoryStore: Not enough space to cache rdd_74_3 in memory! (computed 43.8 MiB so far)\n",
      "24/01/07 13:09:23 WARN MemoryStore: Not enough space to cache rdd_74_2 in memory! (computed 99.2 MiB so far)\n"
     ]
    },
    {
     "name": "stderr",
     "output_type": "stream",
     "text": [
      "[Stage 30:=============================>                            (4 + 2) / 8]\r"
     ]
    },
    {
     "name": "stdout",
     "output_type": "stream",
     "text": [
      "24/01/07 13:09:25 WARN MemoryStore: Not enough space to cache rdd_74_4 in memory! (computed 65.7 MiB so far)\n",
      "24/01/07 13:09:25 WARN MemoryStore: Not enough space to cache rdd_74_5 in memory! (computed 65.7 MiB so far)\n"
     ]
    },
    {
     "name": "stderr",
     "output_type": "stream",
     "text": [
      "[Stage 30:==================================================>       (7 + 1) / 8]\r"
     ]
    },
    {
     "name": "stdout",
     "output_type": "stream",
     "text": [
      "24/01/07 13:09:28 WARN MemoryStore: Not enough space to cache rdd_74_7 in memory! (computed 99.2 MiB so far)\n"
     ]
    },
    {
     "name": "stderr",
     "output_type": "stream",
     "text": [
      "\r",
      "                                                                                \r"
     ]
    },
    {
     "name": "stdout",
     "output_type": "stream",
     "text": [
      "24/01/07 13:09:29 WARN MemoryStore: Not enough space to cache rdd_74_0 in memory! (computed 43.8 MiB so far)\n"
     ]
    },
    {
     "name": "stderr",
     "output_type": "stream",
     "text": [
      "\r",
      "[Stage 32:>                                                         (0 + 2) / 8]\r"
     ]
    },
    {
     "name": "stdout",
     "output_type": "stream",
     "text": [
      "24/01/07 13:09:29 WARN MemoryStore: Not enough space to cache rdd_74_1 in memory! (computed 99.2 MiB so far)\n"
     ]
    },
    {
     "name": "stderr",
     "output_type": "stream",
     "text": [
      "[Stage 32:==============>                                           (2 + 2) / 8]\r"
     ]
    },
    {
     "name": "stdout",
     "output_type": "stream",
     "text": [
      "24/01/07 13:09:31 WARN MemoryStore: Not enough space to cache rdd_74_2 in memory! (computed 99.2 MiB so far)\n",
      "24/01/07 13:09:32 WARN MemoryStore: Not enough space to cache rdd_74_3 in memory! (computed 99.2 MiB so far)\n"
     ]
    },
    {
     "name": "stderr",
     "output_type": "stream",
     "text": [
      "[Stage 32:=============================>                            (4 + 2) / 8]\r"
     ]
    },
    {
     "name": "stdout",
     "output_type": "stream",
     "text": [
      "24/01/07 13:09:34 WARN MemoryStore: Not enough space to cache rdd_74_4 in memory! (computed 99.2 MiB so far)\n",
      "24/01/07 13:09:35 WARN MemoryStore: Not enough space to cache rdd_74_5 in memory! (computed 99.2 MiB so far)\n"
     ]
    },
    {
     "name": "stderr",
     "output_type": "stream",
     "text": [
      "[Stage 32:==================================================>       (7 + 1) / 8]\r"
     ]
    },
    {
     "name": "stdout",
     "output_type": "stream",
     "text": [
      "24/01/07 13:09:37 WARN MemoryStore: Not enough space to cache rdd_74_7 in memory! (computed 99.2 MiB so far)\n"
     ]
    },
    {
     "name": "stderr",
     "output_type": "stream",
     "text": [
      "\r",
      "                                                                                \r"
     ]
    }
   ],
   "source": [
    "dt = dt.fit(train_data)"
   ]
  },
  {
   "cell_type": "code",
   "execution_count": 19,
   "id": "b2c46ede",
   "metadata": {
    "scrolled": true
   },
   "outputs": [
    {
     "name": "stderr",
     "output_type": "stream",
     "text": [
      "[Stage 41:>                                                         (0 + 2) / 8]\r"
     ]
    },
    {
     "name": "stdout",
     "output_type": "stream",
     "text": [
      "24/01/07 13:13:00 WARN MemoryStore: Not enough space to cache rdd_119_0 in memory! (computed 149.9 MiB so far)\n",
      "24/01/07 13:13:00 WARN BlockManager: Persisting block rdd_119_0 to disk instead.\n",
      "24/01/07 13:13:00 WARN MemoryStore: Not enough space to cache rdd_119_1 in memory! (computed 149.9 MiB so far)\n",
      "24/01/07 13:13:00 WARN BlockManager: Persisting block rdd_119_1 to disk instead.\n",
      "24/01/07 13:13:08 WARN MemoryStore: Not enough space to cache rdd_119_1 in memory! (computed 149.9 MiB so far)\n",
      "24/01/07 13:13:08 WARN MemoryStore: Not enough space to cache rdd_119_0 in memory! (computed 236.8 MiB so far)\n"
     ]
    },
    {
     "name": "stderr",
     "output_type": "stream",
     "text": [
      "[Stage 41:==============>                                           (2 + 2) / 8]\r"
     ]
    },
    {
     "name": "stdout",
     "output_type": "stream",
     "text": [
      "24/01/07 13:13:27 WARN MemoryStore: Not enough space to cache rdd_119_2 in memory! (computed 149.9 MiB so far)\n",
      "24/01/07 13:13:27 WARN BlockManager: Persisting block rdd_119_2 to disk instead.\n",
      "24/01/07 13:13:28 WARN MemoryStore: Not enough space to cache rdd_119_3 in memory! (computed 149.9 MiB so far)\n",
      "24/01/07 13:13:28 WARN BlockManager: Persisting block rdd_119_3 to disk instead.\n",
      "24/01/07 13:13:35 WARN MemoryStore: Not enough space to cache rdd_119_3 in memory! (computed 149.9 MiB so far)\n",
      "24/01/07 13:13:35 WARN MemoryStore: Not enough space to cache rdd_119_2 in memory! (computed 236.8 MiB so far)\n"
     ]
    },
    {
     "name": "stderr",
     "output_type": "stream",
     "text": [
      "[Stage 41:=============================>                            (4 + 2) / 8]\r"
     ]
    },
    {
     "name": "stdout",
     "output_type": "stream",
     "text": [
      "24/01/07 13:13:55 WARN MemoryStore: Not enough space to cache rdd_119_4 in memory! (computed 149.9 MiB so far)\n",
      "24/01/07 13:13:55 WARN BlockManager: Persisting block rdd_119_4 to disk instead.\n",
      "24/01/07 13:13:57 WARN MemoryStore: Not enough space to cache rdd_119_5 in memory! (computed 236.8 MiB so far)\n",
      "24/01/07 13:13:57 WARN BlockManager: Persisting block rdd_119_5 to disk instead.\n",
      "24/01/07 13:14:04 WARN MemoryStore: Not enough space to cache rdd_119_4 in memory! (computed 236.8 MiB so far)\n",
      "24/01/07 13:14:04 WARN MemoryStore: Not enough space to cache rdd_119_5 in memory! (computed 149.9 MiB so far)\n"
     ]
    },
    {
     "name": "stderr",
     "output_type": "stream",
     "text": [
      "[Stage 41:===========================================>              (6 + 2) / 8]\r"
     ]
    },
    {
     "name": "stdout",
     "output_type": "stream",
     "text": [
      "24/01/07 13:14:17 WARN MemoryStore: Not enough space to cache rdd_119_7 in memory! (computed 99.9 MiB so far)\n",
      "24/01/07 13:14:17 WARN BlockManager: Persisting block rdd_119_7 to disk instead.\n",
      "24/01/07 13:14:22 WARN MemoryStore: Not enough space to cache rdd_119_7 in memory! (computed 236.8 MiB so far)\n",
      "24/01/07 13:14:22 WARN MemoryStore: Not enough space to cache rdd_119_6 in memory! (computed 99.9 MiB so far)\n",
      "24/01/07 13:14:22 WARN BlockManager: Persisting block rdd_119_6 to disk instead.\n"
     ]
    },
    {
     "name": "stderr",
     "output_type": "stream",
     "text": [
      "\r",
      "[Stage 41:==================================================>       (7 + 1) / 8]\r"
     ]
    },
    {
     "name": "stdout",
     "output_type": "stream",
     "text": [
      "24/01/07 13:14:30 WARN MemoryStore: Not enough space to cache rdd_119_6 in memory! (computed 355.2 MiB so far)\n"
     ]
    },
    {
     "name": "stderr",
     "output_type": "stream",
     "text": [
      "[Stage 43:>                                                         (0 + 2) / 8]\r"
     ]
    },
    {
     "name": "stdout",
     "output_type": "stream",
     "text": [
      "24/01/07 13:14:34 WARN MemoryStore: Not enough space to cache rdd_119_0 in memory! (computed 236.8 MiB so far)\n",
      "24/01/07 13:14:34 WARN MemoryStore: Not enough space to cache rdd_119_1 in memory! (computed 149.9 MiB so far)\n"
     ]
    },
    {
     "name": "stderr",
     "output_type": "stream",
     "text": [
      "\r",
      "[Stage 43:==============>                                           (2 + 2) / 8]\r"
     ]
    },
    {
     "name": "stdout",
     "output_type": "stream",
     "text": [
      "24/01/07 13:14:42 WARN MemoryStore: Not enough space to cache rdd_119_2 in memory! (computed 236.8 MiB so far)\n",
      "24/01/07 13:14:42 WARN MemoryStore: Not enough space to cache rdd_119_3 in memory! (computed 149.9 MiB so far)\n"
     ]
    },
    {
     "name": "stderr",
     "output_type": "stream",
     "text": [
      "[Stage 43:=============================>                            (4 + 2) / 8]\r"
     ]
    },
    {
     "name": "stdout",
     "output_type": "stream",
     "text": [
      "24/01/07 13:14:49 WARN MemoryStore: Not enough space to cache rdd_119_4 in memory! (computed 236.8 MiB so far)\n",
      "24/01/07 13:14:49 WARN MemoryStore: Not enough space to cache rdd_119_5 in memory! (computed 149.9 MiB so far)\n"
     ]
    },
    {
     "name": "stderr",
     "output_type": "stream",
     "text": [
      "[Stage 43:===========================================>              (6 + 2) / 8]\r"
     ]
    },
    {
     "name": "stdout",
     "output_type": "stream",
     "text": [
      "24/01/07 13:14:57 WARN MemoryStore: Not enough space to cache rdd_119_7 in memory! (computed 149.9 MiB so far)\n",
      "24/01/07 13:14:57 WARN MemoryStore: Not enough space to cache rdd_119_6 in memory! (computed 236.8 MiB so far)\n"
     ]
    },
    {
     "name": "stderr",
     "output_type": "stream",
     "text": [
      "[Stage 45:>                                                         (0 + 2) / 8]\r"
     ]
    },
    {
     "name": "stdout",
     "output_type": "stream",
     "text": [
      "24/01/07 13:15:05 WARN MemoryStore: Not enough space to cache rdd_119_1 in memory! (computed 236.8 MiB so far)\n",
      "24/01/07 13:15:05 WARN MemoryStore: Not enough space to cache rdd_119_0 in memory! (computed 149.9 MiB so far)\n"
     ]
    },
    {
     "name": "stderr",
     "output_type": "stream",
     "text": [
      "\r",
      "[Stage 45:==============>                                           (2 + 2) / 8]\r"
     ]
    },
    {
     "name": "stdout",
     "output_type": "stream",
     "text": [
      "24/01/07 13:15:14 WARN MemoryStore: Not enough space to cache rdd_119_2 in memory! (computed 236.8 MiB so far)\n",
      "24/01/07 13:15:14 WARN MemoryStore: Not enough space to cache rdd_119_3 in memory! (computed 149.9 MiB so far)\n"
     ]
    },
    {
     "name": "stderr",
     "output_type": "stream",
     "text": [
      "[Stage 45:=============================>                            (4 + 2) / 8]\r"
     ]
    },
    {
     "name": "stdout",
     "output_type": "stream",
     "text": [
      "24/01/07 13:15:25 WARN MemoryStore: Not enough space to cache rdd_119_5 in memory! (computed 66.6 MiB so far)\n",
      "24/01/07 13:15:26 WARN MemoryStore: Not enough space to cache rdd_119_4 in memory! (computed 355.2 MiB so far)\n"
     ]
    },
    {
     "name": "stderr",
     "output_type": "stream",
     "text": [
      "[Stage 45:===========================================>              (6 + 2) / 8]\r"
     ]
    },
    {
     "name": "stdout",
     "output_type": "stream",
     "text": [
      "24/01/07 13:15:36 WARN MemoryStore: Not enough space to cache rdd_119_7 in memory! (computed 66.6 MiB so far)\n",
      "24/01/07 13:15:36 WARN MemoryStore: Not enough space to cache rdd_119_6 in memory! (computed 355.2 MiB so far)\n"
     ]
    },
    {
     "name": "stderr",
     "output_type": "stream",
     "text": [
      "[Stage 47:>                                                         (0 + 2) / 8]\r"
     ]
    },
    {
     "name": "stdout",
     "output_type": "stream",
     "text": [
      "24/01/07 13:15:45 WARN MemoryStore: Not enough space to cache rdd_119_1 in memory! (computed 149.9 MiB so far)\n",
      "24/01/07 13:15:45 WARN MemoryStore: Not enough space to cache rdd_119_0 in memory! (computed 236.8 MiB so far)\n"
     ]
    },
    {
     "name": "stderr",
     "output_type": "stream",
     "text": [
      "[Stage 47:==============>                                           (2 + 2) / 8]\r"
     ]
    },
    {
     "name": "stdout",
     "output_type": "stream",
     "text": [
      "24/01/07 13:15:55 WARN MemoryStore: Not enough space to cache rdd_119_2 in memory! (computed 236.8 MiB so far)\n",
      "24/01/07 13:15:55 WARN MemoryStore: Not enough space to cache rdd_119_3 in memory! (computed 149.9 MiB so far)\n"
     ]
    },
    {
     "name": "stderr",
     "output_type": "stream",
     "text": [
      "[Stage 47:=============================>                            (4 + 2) / 8]\r"
     ]
    },
    {
     "name": "stdout",
     "output_type": "stream",
     "text": [
      "24/01/07 13:16:04 WARN MemoryStore: Not enough space to cache rdd_119_4 in memory! (computed 236.8 MiB so far)\n",
      "24/01/07 13:16:05 WARN MemoryStore: Not enough space to cache rdd_119_5 in memory! (computed 149.9 MiB so far)\n"
     ]
    },
    {
     "name": "stderr",
     "output_type": "stream",
     "text": [
      "\r",
      "[Stage 47:====================================>                     (5 + 2) / 8]\r",
      "\r",
      "[Stage 47:===========================================>              (6 + 2) / 8]\r"
     ]
    },
    {
     "name": "stdout",
     "output_type": "stream",
     "text": [
      "24/01/07 13:16:12 WARN MemoryStore: Not enough space to cache rdd_119_7 in memory! (computed 149.9 MiB so far)\n",
      "24/01/07 13:16:13 WARN MemoryStore: Not enough space to cache rdd_119_6 in memory! (computed 236.8 MiB so far)\n"
     ]
    },
    {
     "name": "stderr",
     "output_type": "stream",
     "text": [
      "[Stage 49:>                                                         (0 + 2) / 8]\r"
     ]
    },
    {
     "name": "stdout",
     "output_type": "stream",
     "text": [
      "24/01/07 13:16:21 WARN MemoryStore: Not enough space to cache rdd_119_1 in memory! (computed 236.8 MiB so far)\n",
      "24/01/07 13:16:21 WARN MemoryStore: Not enough space to cache rdd_119_0 in memory! (computed 149.9 MiB so far)\n"
     ]
    },
    {
     "name": "stderr",
     "output_type": "stream",
     "text": [
      "[Stage 49:==============>                                           (2 + 2) / 8]\r"
     ]
    },
    {
     "name": "stdout",
     "output_type": "stream",
     "text": [
      "24/01/07 13:16:29 WARN MemoryStore: Not enough space to cache rdd_119_3 in memory! (computed 149.9 MiB so far)\n",
      "24/01/07 13:16:30 WARN MemoryStore: Not enough space to cache rdd_119_2 in memory! (computed 236.8 MiB so far)\n"
     ]
    },
    {
     "name": "stderr",
     "output_type": "stream",
     "text": [
      "[Stage 49:=============================>                            (4 + 2) / 8]\r"
     ]
    },
    {
     "name": "stdout",
     "output_type": "stream",
     "text": [
      "24/01/07 13:16:39 WARN MemoryStore: Not enough space to cache rdd_119_5 in memory! (computed 66.6 MiB so far)\n",
      "24/01/07 13:16:39 WARN MemoryStore: Not enough space to cache rdd_119_4 in memory! (computed 355.2 MiB so far)\n"
     ]
    },
    {
     "name": "stderr",
     "output_type": "stream",
     "text": [
      "[Stage 49:===========================================>              (6 + 2) / 8]\r"
     ]
    },
    {
     "name": "stdout",
     "output_type": "stream",
     "text": [
      "24/01/07 13:16:48 WARN MemoryStore: Not enough space to cache rdd_119_7 in memory! (computed 66.6 MiB so far)\n",
      "24/01/07 13:16:49 WARN MemoryStore: Not enough space to cache rdd_119_6 in memory! (computed 355.2 MiB so far)\n"
     ]
    },
    {
     "name": "stderr",
     "output_type": "stream",
     "text": [
      "                                                                                \r"
     ]
    }
   ],
   "source": [
    "# Fit models\n",
    "rf = rf.fit(train_data)"
   ]
  },
  {
   "cell_type": "code",
   "execution_count": 20,
   "id": "0b162e56",
   "metadata": {
    "scrolled": true
   },
   "outputs": [
    {
     "name": "stderr",
     "output_type": "stream",
     "text": [
      "                                                                                \r"
     ]
    }
   ],
   "source": [
    "nb = nb.fit(train_data)"
   ]
  },
  {
   "cell_type": "code",
   "execution_count": 21,
   "id": "adccd38f",
   "metadata": {
    "scrolled": true
   },
   "outputs": [
    {
     "name": "stderr",
     "output_type": "stream",
     "text": [
      "[Stage 59:==============>                                           (2 + 2) / 8]\r"
     ]
    },
    {
     "name": "stdout",
     "output_type": "stream",
     "text": [
      "24/01/07 13:20:40 WARN MemoryStore: Not enough space to cache rdd_182_3 in memory! (computed 17.0 MiB so far)\n",
      "24/01/07 13:20:40 WARN BlockManager: Persisting block rdd_182_3 to disk instead.\n",
      "24/01/07 13:20:40 WARN MemoryStore: Not enough space to cache rdd_182_2 in memory! (computed 65.0 MiB so far)\n",
      "24/01/07 13:20:41 WARN BlockManager: Persisting block rdd_182_2 to disk instead.\n",
      "24/01/07 13:20:45 WARN MemoryStore: Not enough space to cache rdd_182_2 in memory! (computed 113.0 MiB so far)\n"
     ]
    },
    {
     "name": "stderr",
     "output_type": "stream",
     "text": [
      "\r",
      "[Stage 59:=====================>                                    (3 + 2) / 8]\r"
     ]
    },
    {
     "name": "stdout",
     "output_type": "stream",
     "text": [
      "24/01/07 13:20:47 WARN MemoryStore: Not enough space to cache rdd_182_3 in memory! (computed 113.0 MiB so far)\n"
     ]
    },
    {
     "name": "stderr",
     "output_type": "stream",
     "text": [
      "\r",
      "[Stage 59:=============================>                            (4 + 2) / 8]\r"
     ]
    },
    {
     "name": "stdout",
     "output_type": "stream",
     "text": [
      "24/01/07 13:21:04 WARN MemoryStore: Not enough space to cache rdd_182_4 in memory! (computed 113.0 MiB so far)\n",
      "24/01/07 13:21:04 WARN BlockManager: Persisting block rdd_182_4 to disk instead.\n",
      "24/01/07 13:21:05 WARN MemoryStore: Not enough space to cache rdd_182_5 in memory! (computed 65.0 MiB so far)\n",
      "24/01/07 13:21:05 WARN BlockManager: Persisting block rdd_182_5 to disk instead.\n"
     ]
    },
    {
     "name": "stderr",
     "output_type": "stream",
     "text": [
      "\r",
      "[Stage 59:====================================>                     (5 + 2) / 8]\r"
     ]
    },
    {
     "name": "stdout",
     "output_type": "stream",
     "text": [
      "24/01/07 13:21:08 WARN MemoryStore: Not enough space to cache rdd_182_5 in memory! (computed 33.0 MiB so far)\n"
     ]
    },
    {
     "name": "stderr",
     "output_type": "stream",
     "text": [
      "[Stage 59:==================================================>       (7 + 1) / 8]\r"
     ]
    },
    {
     "name": "stdout",
     "output_type": "stream",
     "text": [
      "24/01/07 13:21:21 WARN MemoryStore: Not enough space to cache rdd_182_6 in memory! (computed 65.0 MiB so far)\n",
      "24/01/07 13:21:21 WARN BlockManager: Persisting block rdd_182_6 to disk instead.\n"
     ]
    },
    {
     "name": "stderr",
     "output_type": "stream",
     "text": [
      "\r",
      "                                                                                \r"
     ]
    },
    {
     "name": "stdout",
     "output_type": "stream",
     "text": [
      "24/01/07 13:21:24 WARN MemoryStore: Not enough space to cache rdd_182_1 in memory! (computed 113.0 MiB so far)\n"
     ]
    },
    {
     "name": "stderr",
     "output_type": "stream",
     "text": [
      "\r",
      "[Stage 61:>                                                         (0 + 2) / 8]\r",
      "\r",
      "[Stage 61:=======>                                                  (1 + 2) / 8]\r"
     ]
    },
    {
     "name": "stdout",
     "output_type": "stream",
     "text": [
      "24/01/07 13:21:25 WARN MemoryStore: Not enough space to cache rdd_182_2 in memory! (computed 33.0 MiB so far)\n"
     ]
    },
    {
     "name": "stderr",
     "output_type": "stream",
     "text": [
      "\r",
      "[Stage 61:==============>                                           (2 + 2) / 8]\r"
     ]
    },
    {
     "name": "stdout",
     "output_type": "stream",
     "text": [
      "24/01/07 13:21:25 WARN MemoryStore: Not enough space to cache rdd_182_3 in memory! (computed 65.0 MiB so far)\n"
     ]
    },
    {
     "name": "stderr",
     "output_type": "stream",
     "text": [
      "\r",
      "[Stage 61:=====================>                                    (3 + 2) / 8]\r",
      "\r",
      "[Stage 61:=============================>                            (4 + 2) / 8]\r"
     ]
    },
    {
     "name": "stdout",
     "output_type": "stream",
     "text": [
      "24/01/07 13:21:26 WARN MemoryStore: Not enough space to cache rdd_182_4 in memory! (computed 33.0 MiB so far)\n",
      "24/01/07 13:21:26 WARN MemoryStore: Not enough space to cache rdd_182_5 in memory! (computed 65.0 MiB so far)\n"
     ]
    },
    {
     "name": "stderr",
     "output_type": "stream",
     "text": [
      "\r",
      "[Stage 61:====================================>                     (5 + 2) / 8]\r",
      "\r",
      "                                                                                \r"
     ]
    },
    {
     "name": "stdout",
     "output_type": "stream",
     "text": [
      "24/01/07 13:21:28 WARN MemoryStore: Not enough space to cache rdd_182_1 in memory! (computed 65.0 MiB so far)\n",
      "24/01/07 13:21:28 WARN MemoryStore: Not enough space to cache rdd_182_2 in memory! (computed 65.0 MiB so far)\n"
     ]
    },
    {
     "name": "stderr",
     "output_type": "stream",
     "text": [
      "\r",
      "[Stage 63:==============>                                           (2 + 2) / 8]\r"
     ]
    },
    {
     "name": "stdout",
     "output_type": "stream",
     "text": [
      "24/01/07 13:21:28 WARN MemoryStore: Not enough space to cache rdd_182_3 in memory! (computed 65.0 MiB so far)\n"
     ]
    },
    {
     "name": "stderr",
     "output_type": "stream",
     "text": [
      "\r",
      "[Stage 63:=====================>                                    (3 + 2) / 8]\r"
     ]
    },
    {
     "name": "stdout",
     "output_type": "stream",
     "text": [
      "24/01/07 13:21:29 WARN MemoryStore: Not enough space to cache rdd_182_4 in memory! (computed 65.0 MiB so far)\n"
     ]
    },
    {
     "name": "stderr",
     "output_type": "stream",
     "text": [
      "\r",
      "[Stage 63:=============================>                            (4 + 2) / 8]\r"
     ]
    },
    {
     "name": "stdout",
     "output_type": "stream",
     "text": [
      "24/01/07 13:21:29 WARN MemoryStore: Not enough space to cache rdd_182_5 in memory! (computed 65.0 MiB so far)\n"
     ]
    },
    {
     "name": "stderr",
     "output_type": "stream",
     "text": [
      "                                                                                \r"
     ]
    },
    {
     "name": "stdout",
     "output_type": "stream",
     "text": [
      "24/01/07 13:21:30 WARN MemoryStore: Not enough space to cache rdd_182_2 in memory! (computed 17.0 MiB so far)\n",
      "24/01/07 13:21:30 WARN MemoryStore: Not enough space to cache rdd_182_1 in memory! (computed 65.0 MiB so far)\n"
     ]
    },
    {
     "name": "stderr",
     "output_type": "stream",
     "text": [
      "[Stage 65:=====================>                                    (3 + 2) / 8]\r"
     ]
    },
    {
     "name": "stdout",
     "output_type": "stream",
     "text": [
      "24/01/07 13:21:31 WARN MemoryStore: Not enough space to cache rdd_182_4 in memory! (computed 17.0 MiB so far)\n",
      "24/01/07 13:21:31 WARN MemoryStore: Not enough space to cache rdd_182_3 in memory! (computed 65.0 MiB so far)\n"
     ]
    },
    {
     "name": "stderr",
     "output_type": "stream",
     "text": [
      "\r",
      "[Stage 65:====================================>                     (5 + 2) / 8]\r"
     ]
    },
    {
     "name": "stdout",
     "output_type": "stream",
     "text": [
      "24/01/07 13:21:31 WARN MemoryStore: Not enough space to cache rdd_182_5 in memory! (computed 65.0 MiB so far)\n"
     ]
    },
    {
     "name": "stderr",
     "output_type": "stream",
     "text": [
      "\r",
      "[Stage 65:==================================================>       (7 + 1) / 8]\r",
      "\r",
      "                                                                                \r"
     ]
    },
    {
     "name": "stdout",
     "output_type": "stream",
     "text": [
      "24/01/07 13:21:32 WARN MemoryStore: Not enough space to cache rdd_182_1 in memory! (computed 65.0 MiB so far)\n",
      "24/01/07 13:21:32 WARN MemoryStore: Not enough space to cache rdd_182_2 in memory! (computed 65.0 MiB so far)\n"
     ]
    },
    {
     "name": "stderr",
     "output_type": "stream",
     "text": [
      "\r",
      "[Stage 67:==============>                                           (2 + 2) / 8]\r"
     ]
    },
    {
     "name": "stdout",
     "output_type": "stream",
     "text": [
      "24/01/07 13:21:32 WARN MemoryStore: Not enough space to cache rdd_182_3 in memory! (computed 65.0 MiB so far)\n",
      "24/01/07 13:21:33 WARN MemoryStore: Not enough space to cache rdd_182_4 in memory! (computed 17.0 MiB so far)\n"
     ]
    },
    {
     "name": "stderr",
     "output_type": "stream",
     "text": [
      "[Stage 67:=============================>                            (4 + 2) / 8]\r"
     ]
    },
    {
     "name": "stdout",
     "output_type": "stream",
     "text": [
      "24/01/07 13:21:33 WARN MemoryStore: Not enough space to cache rdd_182_5 in memory! (computed 65.0 MiB so far)\n"
     ]
    },
    {
     "name": "stderr",
     "output_type": "stream",
     "text": [
      "                                                                                \r"
     ]
    },
    {
     "name": "stdout",
     "output_type": "stream",
     "text": [
      "24/01/07 13:21:34 WARN MemoryStore: Not enough space to cache rdd_182_1 in memory! (computed 65.0 MiB so far)\n",
      "24/01/07 13:21:34 WARN MemoryStore: Not enough space to cache rdd_182_2 in memory! (computed 17.0 MiB so far)\n"
     ]
    },
    {
     "name": "stderr",
     "output_type": "stream",
     "text": [
      "\r",
      "[Stage 69:=======>                                                  (1 + 2) / 8]\r"
     ]
    },
    {
     "name": "stdout",
     "output_type": "stream",
     "text": [
      "24/01/07 13:21:34 WARN MemoryStore: Not enough space to cache rdd_182_3 in memory! (computed 65.0 MiB so far)\n"
     ]
    },
    {
     "name": "stderr",
     "output_type": "stream",
     "text": [
      "\r",
      "[Stage 69:==============>                                           (2 + 2) / 8]\r"
     ]
    },
    {
     "name": "stdout",
     "output_type": "stream",
     "text": [
      "24/01/07 13:21:34 WARN MemoryStore: Not enough space to cache rdd_182_4 in memory! (computed 65.0 MiB so far)\n"
     ]
    },
    {
     "name": "stderr",
     "output_type": "stream",
     "text": [
      "[Stage 69:=============================>                            (4 + 2) / 8]\r"
     ]
    },
    {
     "name": "stdout",
     "output_type": "stream",
     "text": [
      "24/01/07 13:21:35 WARN MemoryStore: Not enough space to cache rdd_182_5 in memory! (computed 65.0 MiB so far)\n"
     ]
    },
    {
     "name": "stderr",
     "output_type": "stream",
     "text": [
      "                                                                                \r"
     ]
    },
    {
     "name": "stdout",
     "output_type": "stream",
     "text": [
      "24/01/07 13:21:36 WARN MemoryStore: Not enough space to cache rdd_182_1 in memory! (computed 65.0 MiB so far)\n",
      "24/01/07 13:21:36 WARN MemoryStore: Not enough space to cache rdd_182_2 in memory! (computed 17.0 MiB so far)\n"
     ]
    },
    {
     "name": "stderr",
     "output_type": "stream",
     "text": [
      "\r",
      "[Stage 71:=======>                                                  (1 + 2) / 8]\r",
      "\r",
      "[Stage 71:=====================>                                    (3 + 2) / 8]\r"
     ]
    },
    {
     "name": "stdout",
     "output_type": "stream",
     "text": [
      "24/01/07 13:21:36 WARN MemoryStore: Not enough space to cache rdd_182_3 in memory! (computed 65.0 MiB so far)\n",
      "24/01/07 13:21:36 WARN MemoryStore: Not enough space to cache rdd_182_4 in memory! (computed 17.0 MiB so far)\n"
     ]
    },
    {
     "name": "stderr",
     "output_type": "stream",
     "text": [
      "\r",
      "[Stage 71:=============================>                            (4 + 2) / 8]\r"
     ]
    },
    {
     "name": "stdout",
     "output_type": "stream",
     "text": [
      "24/01/07 13:21:37 WARN MemoryStore: Not enough space to cache rdd_182_5 in memory! (computed 65.0 MiB so far)\n"
     ]
    },
    {
     "name": "stderr",
     "output_type": "stream",
     "text": [
      "                                                                                \r"
     ]
    },
    {
     "name": "stdout",
     "output_type": "stream",
     "text": [
      "24/01/07 13:21:37 WARN MemoryStore: Not enough space to cache rdd_182_1 in memory! (computed 65.0 MiB so far)\n",
      "24/01/07 13:21:38 WARN MemoryStore: Not enough space to cache rdd_182_2 in memory! (computed 17.0 MiB so far)\n"
     ]
    },
    {
     "name": "stderr",
     "output_type": "stream",
     "text": [
      "[Stage 73:==============>                                           (2 + 2) / 8]\r"
     ]
    },
    {
     "name": "stdout",
     "output_type": "stream",
     "text": [
      "24/01/07 13:21:38 WARN MemoryStore: Not enough space to cache rdd_182_3 in memory! (computed 65.0 MiB so far)\n"
     ]
    },
    {
     "name": "stderr",
     "output_type": "stream",
     "text": [
      "\r",
      "[Stage 73:=====================>                                    (3 + 2) / 8]\r"
     ]
    },
    {
     "name": "stdout",
     "output_type": "stream",
     "text": [
      "24/01/07 13:21:38 WARN MemoryStore: Not enough space to cache rdd_182_4 in memory! (computed 65.0 MiB so far)\n"
     ]
    },
    {
     "name": "stderr",
     "output_type": "stream",
     "text": [
      "\r",
      "[Stage 73:=============================>                            (4 + 2) / 8]\r"
     ]
    },
    {
     "name": "stdout",
     "output_type": "stream",
     "text": [
      "24/01/07 13:21:39 WARN MemoryStore: Not enough space to cache rdd_182_5 in memory! (computed 65.0 MiB so far)\n"
     ]
    },
    {
     "name": "stderr",
     "output_type": "stream",
     "text": [
      "\r",
      "[Stage 73:====================================>                     (5 + 2) / 8]\r",
      "\r",
      "                                                                                \r"
     ]
    },
    {
     "name": "stdout",
     "output_type": "stream",
     "text": [
      "24/01/07 13:21:40 WARN MemoryStore: Not enough space to cache rdd_182_1 in memory! (computed 65.0 MiB so far)\n",
      "24/01/07 13:21:40 WARN MemoryStore: Not enough space to cache rdd_182_2 in memory! (computed 65.0 MiB so far)\n"
     ]
    },
    {
     "name": "stderr",
     "output_type": "stream",
     "text": [
      "[Stage 75:=====================>                                    (3 + 2) / 8]\r"
     ]
    },
    {
     "name": "stdout",
     "output_type": "stream",
     "text": [
      "24/01/07 13:21:40 WARN MemoryStore: Not enough space to cache rdd_182_4 in memory! (computed 17.0 MiB so far)\n",
      "24/01/07 13:21:40 WARN MemoryStore: Not enough space to cache rdd_182_3 in memory! (computed 65.0 MiB so far)\n",
      "24/01/07 13:21:41 WARN MemoryStore: Not enough space to cache rdd_182_5 in memory! (computed 65.0 MiB so far)\n"
     ]
    },
    {
     "name": "stderr",
     "output_type": "stream",
     "text": [
      "                                                                                \r"
     ]
    },
    {
     "name": "stdout",
     "output_type": "stream",
     "text": [
      "24/01/07 13:21:42 WARN MemoryStore: Not enough space to cache rdd_182_1 in memory! (computed 65.0 MiB so far)\n",
      "24/01/07 13:21:42 WARN MemoryStore: Not enough space to cache rdd_182_2 in memory! (computed 17.0 MiB so far)\n"
     ]
    },
    {
     "name": "stderr",
     "output_type": "stream",
     "text": [
      "\r",
      "[Stage 77:=======>                                                  (1 + 2) / 8]\r"
     ]
    },
    {
     "name": "stdout",
     "output_type": "stream",
     "text": [
      "24/01/07 13:21:42 WARN MemoryStore: Not enough space to cache rdd_182_3 in memory! (computed 65.0 MiB so far)\n",
      "24/01/07 13:21:42 WARN MemoryStore: Not enough space to cache rdd_182_4 in memory! (computed 17.0 MiB so far)\n"
     ]
    },
    {
     "name": "stderr",
     "output_type": "stream",
     "text": [
      "[Stage 77:====================================>                     (5 + 2) / 8]\r"
     ]
    },
    {
     "name": "stdout",
     "output_type": "stream",
     "text": [
      "24/01/07 13:21:43 WARN MemoryStore: Not enough space to cache rdd_182_5 in memory! (computed 65.0 MiB so far)\n"
     ]
    },
    {
     "name": "stderr",
     "output_type": "stream",
     "text": [
      "\r",
      "[Stage 77:==================================================>       (7 + 1) / 8]\r",
      "\r",
      "                                                                                \r"
     ]
    },
    {
     "name": "stdout",
     "output_type": "stream",
     "text": [
      "24/01/07 13:21:43 WARN MemoryStore: Not enough space to cache rdd_182_1 in memory! (computed 65.0 MiB so far)\n",
      "24/01/07 13:21:43 WARN MemoryStore: Not enough space to cache rdd_182_2 in memory! (computed 17.0 MiB so far)\n"
     ]
    },
    {
     "name": "stderr",
     "output_type": "stream",
     "text": [
      "[Stage 79:==============>                                           (2 + 2) / 8]\r"
     ]
    },
    {
     "name": "stdout",
     "output_type": "stream",
     "text": [
      "24/01/07 13:21:44 WARN MemoryStore: Not enough space to cache rdd_182_3 in memory! (computed 65.0 MiB so far)\n",
      "24/01/07 13:21:44 WARN MemoryStore: Not enough space to cache rdd_182_4 in memory! (computed 17.0 MiB so far)\n"
     ]
    },
    {
     "name": "stderr",
     "output_type": "stream",
     "text": [
      "\r",
      "[Stage 79:=====================>                                    (3 + 2) / 8]\r"
     ]
    },
    {
     "name": "stdout",
     "output_type": "stream",
     "text": [
      "24/01/07 13:21:45 WARN MemoryStore: Not enough space to cache rdd_182_5 in memory! (computed 65.0 MiB so far)\n"
     ]
    },
    {
     "name": "stderr",
     "output_type": "stream",
     "text": [
      "                                                                                \r"
     ]
    },
    {
     "name": "stdout",
     "output_type": "stream",
     "text": [
      "24/01/07 13:21:45 WARN MemoryStore: Not enough space to cache rdd_182_1 in memory! (computed 65.0 MiB so far)\n",
      "24/01/07 13:21:45 WARN MemoryStore: Not enough space to cache rdd_182_2 in memory! (computed 65.0 MiB so far)\n",
      "24/01/07 13:21:46 WARN MemoryStore: Not enough space to cache rdd_182_3 in memory! (computed 17.0 MiB so far)\n"
     ]
    },
    {
     "name": "stderr",
     "output_type": "stream",
     "text": [
      "[Stage 81:=====================>                                    (3 + 2) / 8]\r"
     ]
    },
    {
     "name": "stdout",
     "output_type": "stream",
     "text": [
      "24/01/07 13:21:46 WARN MemoryStore: Not enough space to cache rdd_182_4 in memory! (computed 65.0 MiB so far)\n"
     ]
    },
    {
     "name": "stderr",
     "output_type": "stream",
     "text": [
      "\r",
      "[Stage 81:=============================>                            (4 + 2) / 8]\r"
     ]
    },
    {
     "name": "stdout",
     "output_type": "stream",
     "text": [
      "24/01/07 13:21:47 WARN MemoryStore: Not enough space to cache rdd_182_5 in memory! (computed 65.0 MiB so far)\n"
     ]
    },
    {
     "name": "stderr",
     "output_type": "stream",
     "text": [
      "                                                                                \r"
     ]
    },
    {
     "name": "stdout",
     "output_type": "stream",
     "text": [
      "24/01/07 13:21:48 WARN MemoryStore: Not enough space to cache rdd_182_1 in memory! (computed 65.0 MiB so far)\n",
      "24/01/07 13:21:48 WARN MemoryStore: Not enough space to cache rdd_182_2 in memory! (computed 65.0 MiB so far)\n"
     ]
    },
    {
     "name": "stderr",
     "output_type": "stream",
     "text": [
      "\r",
      "[Stage 83:==============>                                           (2 + 2) / 8]\r"
     ]
    },
    {
     "name": "stdout",
     "output_type": "stream",
     "text": [
      "24/01/07 13:21:49 WARN MemoryStore: Not enough space to cache rdd_182_3 in memory! (computed 65.0 MiB so far)\n"
     ]
    },
    {
     "name": "stderr",
     "output_type": "stream",
     "text": [
      "\r",
      "[Stage 83:=====================>                                    (3 + 2) / 8]\r"
     ]
    },
    {
     "name": "stdout",
     "output_type": "stream",
     "text": [
      "24/01/07 13:21:49 WARN MemoryStore: Not enough space to cache rdd_182_4 in memory! (computed 65.0 MiB so far)\n",
      "24/01/07 13:21:49 WARN MemoryStore: Not enough space to cache rdd_182_5 in memory! (computed 65.0 MiB so far)\n"
     ]
    },
    {
     "name": "stderr",
     "output_type": "stream",
     "text": [
      "[Stage 87:==============>                                           (2 + 2) / 8]\r"
     ]
    },
    {
     "name": "stdout",
     "output_type": "stream",
     "text": [
      "24/01/07 13:23:29 WARN MemoryStore: Not enough space to cache rdd_268_3 in memory! (computed 33.0 MiB so far)\n",
      "24/01/07 13:23:29 WARN BlockManager: Persisting block rdd_268_3 to disk instead.\n",
      "24/01/07 13:23:30 WARN MemoryStore: Not enough space to cache rdd_268_2 in memory! (computed 65.0 MiB so far)\n",
      "24/01/07 13:23:30 WARN BlockManager: Persisting block rdd_268_2 to disk instead.\n",
      "24/01/07 13:23:35 WARN MemoryStore: Not enough space to cache rdd_268_2 in memory! (computed 113.0 MiB so far)\n"
     ]
    },
    {
     "name": "stderr",
     "output_type": "stream",
     "text": [
      "\r",
      "[Stage 87:=====================>                                    (3 + 2) / 8]\r",
      "\r",
      "[Stage 87:=============================>                            (4 + 2) / 8]\r"
     ]
    },
    {
     "name": "stdout",
     "output_type": "stream",
     "text": [
      "24/01/07 13:23:50 WARN MemoryStore: Not enough space to cache rdd_268_5 in memory! (computed 17.0 MiB so far)\n",
      "24/01/07 13:23:50 WARN BlockManager: Persisting block rdd_268_5 to disk instead.\n",
      "24/01/07 13:23:50 WARN MemoryStore: Not enough space to cache rdd_268_4 in memory! (computed 65.0 MiB so far)\n",
      "24/01/07 13:23:50 WARN BlockManager: Persisting block rdd_268_4 to disk instead.\n",
      "24/01/07 13:23:55 WARN MemoryStore: Not enough space to cache rdd_268_4 in memory! (computed 113.0 MiB so far)\n"
     ]
    },
    {
     "name": "stderr",
     "output_type": "stream",
     "text": [
      "[Stage 87:==================================================>       (7 + 1) / 8]\r"
     ]
    },
    {
     "name": "stdout",
     "output_type": "stream",
     "text": [
      "24/01/07 13:24:10 WARN MemoryStore: Not enough space to cache rdd_268_6 in memory! (computed 113.0 MiB so far)\n",
      "24/01/07 13:24:10 WARN BlockManager: Persisting block rdd_268_6 to disk instead.\n"
     ]
    },
    {
     "name": "stderr",
     "output_type": "stream",
     "text": [
      "\r",
      "                                                                                \r"
     ]
    },
    {
     "name": "stdout",
     "output_type": "stream",
     "text": [
      "24/01/07 13:24:12 WARN MemoryStore: Not enough space to cache rdd_268_0 in memory! (computed 113.0 MiB so far)\n",
      "24/01/07 13:24:12 WARN MemoryStore: Not enough space to cache rdd_268_1 in memory! (computed 113.0 MiB so far)\n"
     ]
    },
    {
     "name": "stderr",
     "output_type": "stream",
     "text": [
      "[Stage 89:==============>                                           (2 + 2) / 8]\r"
     ]
    },
    {
     "name": "stdout",
     "output_type": "stream",
     "text": [
      "24/01/07 13:24:13 WARN MemoryStore: Not enough space to cache rdd_268_2 in memory! (computed 113.0 MiB so far)\n",
      "24/01/07 13:24:13 WARN MemoryStore: Not enough space to cache rdd_268_3 in memory! (computed 113.0 MiB so far)\n"
     ]
    },
    {
     "name": "stderr",
     "output_type": "stream",
     "text": [
      "[Stage 89:=============================>                            (4 + 2) / 8]\r"
     ]
    },
    {
     "name": "stdout",
     "output_type": "stream",
     "text": [
      "24/01/07 13:24:14 WARN MemoryStore: Not enough space to cache rdd_268_4 in memory! (computed 113.0 MiB so far)\n"
     ]
    },
    {
     "name": "stderr",
     "output_type": "stream",
     "text": [
      "\r",
      "[Stage 89:===========================================>              (6 + 2) / 8]\r",
      "\r",
      "                                                                                \r"
     ]
    },
    {
     "name": "stdout",
     "output_type": "stream",
     "text": [
      "24/01/07 13:24:15 WARN MemoryStore: Not enough space to cache rdd_268_1 in memory! (computed 33.0 MiB so far)\n",
      "24/01/07 13:24:15 WARN MemoryStore: Not enough space to cache rdd_268_0 in memory! (computed 33.0 MiB so far)\n"
     ]
    },
    {
     "name": "stderr",
     "output_type": "stream",
     "text": [
      "\r",
      "[Stage 91:>                                                         (0 + 2) / 8]\r",
      "\r",
      "[Stage 91:==============>                                           (2 + 2) / 8]\r"
     ]
    },
    {
     "name": "stdout",
     "output_type": "stream",
     "text": [
      "24/01/07 13:24:16 WARN MemoryStore: Not enough space to cache rdd_268_3 in memory! (computed 17.0 MiB so far)\n",
      "24/01/07 13:24:16 WARN MemoryStore: Not enough space to cache rdd_268_2 in memory! (computed 65.0 MiB so far)\n",
      "24/01/07 13:24:16 WARN MemoryStore: Not enough space to cache rdd_268_4 in memory! (computed 65.0 MiB so far)\n"
     ]
    },
    {
     "name": "stderr",
     "output_type": "stream",
     "text": [
      "                                                                                \r"
     ]
    },
    {
     "name": "stdout",
     "output_type": "stream",
     "text": [
      "24/01/07 13:24:17 WARN MemoryStore: Not enough space to cache rdd_268_0 in memory! (computed 33.0 MiB so far)\n",
      "24/01/07 13:24:17 WARN MemoryStore: Not enough space to cache rdd_268_1 in memory! (computed 33.0 MiB so far)\n"
     ]
    },
    {
     "name": "stderr",
     "output_type": "stream",
     "text": [
      "\r",
      "[Stage 93:==============>                                           (2 + 2) / 8]\r"
     ]
    },
    {
     "name": "stdout",
     "output_type": "stream",
     "text": [
      "24/01/07 13:24:17 WARN MemoryStore: Not enough space to cache rdd_268_3 in memory! (computed 33.0 MiB so far)\n",
      "24/01/07 13:24:17 WARN MemoryStore: Not enough space to cache rdd_268_2 in memory! (computed 33.0 MiB so far)\n"
     ]
    },
    {
     "name": "stderr",
     "output_type": "stream",
     "text": [
      "\r",
      "[Stage 93:=====================>                                    (3 + 2) / 8]\r"
     ]
    },
    {
     "name": "stdout",
     "output_type": "stream",
     "text": [
      "24/01/07 13:24:18 WARN MemoryStore: Not enough space to cache rdd_268_4 in memory! (computed 65.0 MiB so far)\n"
     ]
    },
    {
     "name": "stderr",
     "output_type": "stream",
     "text": [
      "                                                                                \r"
     ]
    },
    {
     "name": "stdout",
     "output_type": "stream",
     "text": [
      "24/01/07 13:24:18 WARN MemoryStore: Not enough space to cache rdd_268_1 in memory! (computed 33.0 MiB so far)\n",
      "24/01/07 13:24:19 WARN MemoryStore: Not enough space to cache rdd_268_0 in memory! (computed 33.0 MiB so far)\n"
     ]
    },
    {
     "name": "stderr",
     "output_type": "stream",
     "text": [
      "\r",
      "[Stage 95:>                                                         (0 + 2) / 8]\r",
      "\r",
      "[Stage 95:==============>                                           (2 + 2) / 8]\r"
     ]
    },
    {
     "name": "stdout",
     "output_type": "stream",
     "text": [
      "24/01/07 13:24:19 WARN MemoryStore: Not enough space to cache rdd_268_2 in memory! (computed 33.0 MiB so far)\n",
      "24/01/07 13:24:19 WARN MemoryStore: Not enough space to cache rdd_268_3 in memory! (computed 65.0 MiB so far)\n",
      "24/01/07 13:24:20 WARN MemoryStore: Not enough space to cache rdd_268_4 in memory! (computed 65.0 MiB so far)\n"
     ]
    },
    {
     "name": "stderr",
     "output_type": "stream",
     "text": [
      "                                                                                \r"
     ]
    },
    {
     "name": "stdout",
     "output_type": "stream",
     "text": [
      "24/01/07 13:24:21 WARN MemoryStore: Not enough space to cache rdd_268_1 in memory! (computed 33.0 MiB so far)\n",
      "24/01/07 13:24:21 WARN MemoryStore: Not enough space to cache rdd_268_0 in memory! (computed 33.0 MiB so far)\n"
     ]
    },
    {
     "name": "stderr",
     "output_type": "stream",
     "text": [
      "\r",
      "[Stage 97:=======>                                                  (1 + 2) / 8]\r"
     ]
    },
    {
     "name": "stdout",
     "output_type": "stream",
     "text": [
      "24/01/07 13:24:21 WARN MemoryStore: Not enough space to cache rdd_268_3 in memory! (computed 17.0 MiB so far)\n",
      "24/01/07 13:24:21 WARN MemoryStore: Not enough space to cache rdd_268_2 in memory! (computed 65.0 MiB so far)\n"
     ]
    },
    {
     "name": "stderr",
     "output_type": "stream",
     "text": [
      "\r",
      "[Stage 97:==============>                                           (2 + 2) / 8]\r"
     ]
    },
    {
     "name": "stdout",
     "output_type": "stream",
     "text": [
      "24/01/07 13:24:22 WARN MemoryStore: Not enough space to cache rdd_268_4 in memory! (computed 65.0 MiB so far)\n"
     ]
    },
    {
     "name": "stderr",
     "output_type": "stream",
     "text": [
      "                                                                                \r"
     ]
    },
    {
     "name": "stdout",
     "output_type": "stream",
     "text": [
      "24/01/07 13:24:22 WARN MemoryStore: Not enough space to cache rdd_268_1 in memory! (computed 65.0 MiB so far)\n",
      "24/01/07 13:24:23 WARN MemoryStore: Not enough space to cache rdd_268_0 in memory! (computed 17.0 MiB so far)\n"
     ]
    },
    {
     "name": "stderr",
     "output_type": "stream",
     "text": [
      "\r",
      "[Stage 99:=======>                                                  (1 + 2) / 8]\r"
     ]
    },
    {
     "name": "stdout",
     "output_type": "stream",
     "text": [
      "24/01/07 13:24:23 WARN MemoryStore: Not enough space to cache rdd_268_2 in memory! (computed 65.0 MiB so far)\n",
      "24/01/07 13:24:23 WARN MemoryStore: Not enough space to cache rdd_268_3 in memory! (computed 17.0 MiB so far)\n"
     ]
    },
    {
     "name": "stderr",
     "output_type": "stream",
     "text": [
      "[Stage 99:=============================>                            (4 + 2) / 8]\r"
     ]
    },
    {
     "name": "stdout",
     "output_type": "stream",
     "text": [
      "24/01/07 13:24:24 WARN MemoryStore: Not enough space to cache rdd_268_4 in memory! (computed 65.0 MiB so far)\n"
     ]
    },
    {
     "name": "stderr",
     "output_type": "stream",
     "text": [
      "                                                                                \r"
     ]
    },
    {
     "name": "stdout",
     "output_type": "stream",
     "text": [
      "24/01/07 13:24:25 WARN MemoryStore: Not enough space to cache rdd_268_0 in memory! (computed 33.0 MiB so far)\n",
      "24/01/07 13:24:25 WARN MemoryStore: Not enough space to cache rdd_268_1 in memory! (computed 33.0 MiB so far)\n"
     ]
    },
    {
     "name": "stderr",
     "output_type": "stream",
     "text": [
      "\r",
      "[Stage 101:>                                                        (0 + 2) / 8]\r"
     ]
    },
    {
     "name": "stdout",
     "output_type": "stream",
     "text": [
      "24/01/07 13:24:25 WARN MemoryStore: Not enough space to cache rdd_268_2 in memory! (computed 33.0 MiB so far)\n",
      "24/01/07 13:24:25 WARN MemoryStore: Not enough space to cache rdd_268_3 in memory! (computed 33.0 MiB so far)\n"
     ]
    },
    {
     "name": "stderr",
     "output_type": "stream",
     "text": [
      "\r",
      "[Stage 101:==============>                                          (2 + 2) / 8]\r"
     ]
    },
    {
     "name": "stdout",
     "output_type": "stream",
     "text": [
      "24/01/07 13:24:26 WARN MemoryStore: Not enough space to cache rdd_268_4 in memory! (computed 65.0 MiB so far)\n"
     ]
    },
    {
     "name": "stderr",
     "output_type": "stream",
     "text": [
      "                                                                                \r"
     ]
    },
    {
     "name": "stdout",
     "output_type": "stream",
     "text": [
      "24/01/07 13:24:26 WARN MemoryStore: Not enough space to cache rdd_268_0 in memory! (computed 33.0 MiB so far)\n",
      "24/01/07 13:24:26 WARN MemoryStore: Not enough space to cache rdd_268_1 in memory! (computed 33.0 MiB so far)\n"
     ]
    },
    {
     "name": "stderr",
     "output_type": "stream",
     "text": [
      "\r",
      "[Stage 103:=======>                                                 (1 + 2) / 8]\r"
     ]
    },
    {
     "name": "stdout",
     "output_type": "stream",
     "text": [
      "24/01/07 13:24:27 WARN MemoryStore: Not enough space to cache rdd_268_3 in memory! (computed 17.0 MiB so far)\n",
      "24/01/07 13:24:27 WARN MemoryStore: Not enough space to cache rdd_268_2 in memory! (computed 65.0 MiB so far)\n"
     ]
    },
    {
     "name": "stderr",
     "output_type": "stream",
     "text": [
      "[Stage 103:=====================>                                   (3 + 2) / 8]\r"
     ]
    },
    {
     "name": "stdout",
     "output_type": "stream",
     "text": [
      "24/01/07 13:24:27 WARN MemoryStore: Not enough space to cache rdd_268_4 in memory! (computed 65.0 MiB so far)\n"
     ]
    },
    {
     "name": "stderr",
     "output_type": "stream",
     "text": [
      "                                                                                \r"
     ]
    },
    {
     "name": "stdout",
     "output_type": "stream",
     "text": [
      "24/01/07 13:24:28 WARN MemoryStore: Not enough space to cache rdd_268_1 in memory! (computed 17.0 MiB so far)\n",
      "24/01/07 13:24:28 WARN MemoryStore: Not enough space to cache rdd_268_0 in memory! (computed 65.0 MiB so far)\n",
      "24/01/07 13:24:28 WARN MemoryStore: Not enough space to cache rdd_268_2 in memory! (computed 65.0 MiB so far)\n",
      "24/01/07 13:24:28 WARN MemoryStore: Not enough space to cache rdd_268_3 in memory! (computed 17.0 MiB so far)\n"
     ]
    },
    {
     "name": "stderr",
     "output_type": "stream",
     "text": [
      "[Stage 105:============================>                            (4 + 2) / 8]\r"
     ]
    },
    {
     "name": "stdout",
     "output_type": "stream",
     "text": [
      "24/01/07 13:24:29 WARN MemoryStore: Not enough space to cache rdd_268_4 in memory! (computed 65.0 MiB so far)\n"
     ]
    },
    {
     "name": "stderr",
     "output_type": "stream",
     "text": [
      "                                                                                \r"
     ]
    },
    {
     "name": "stdout",
     "output_type": "stream",
     "text": [
      "24/01/07 13:24:30 WARN MemoryStore: Not enough space to cache rdd_268_0 in memory! (computed 33.0 MiB so far)\n",
      "24/01/07 13:24:30 WARN MemoryStore: Not enough space to cache rdd_268_1 in memory! (computed 33.0 MiB so far)\n",
      "24/01/07 13:24:30 WARN MemoryStore: Not enough space to cache rdd_268_3 in memory! (computed 17.0 MiB so far)\n",
      "24/01/07 13:24:30 WARN MemoryStore: Not enough space to cache rdd_268_2 in memory! (computed 65.0 MiB so far)\n"
     ]
    },
    {
     "name": "stderr",
     "output_type": "stream",
     "text": [
      "\r",
      "[Stage 107:==============>                                          (2 + 2) / 8]\r"
     ]
    },
    {
     "name": "stdout",
     "output_type": "stream",
     "text": [
      "24/01/07 13:24:31 WARN MemoryStore: Not enough space to cache rdd_268_4 in memory! (computed 65.0 MiB so far)\n"
     ]
    },
    {
     "name": "stderr",
     "output_type": "stream",
     "text": [
      "                                                                                \r"
     ]
    },
    {
     "name": "stdout",
     "output_type": "stream",
     "text": [
      "24/01/07 13:24:31 WARN MemoryStore: Not enough space to cache rdd_268_1 in memory! (computed 33.0 MiB so far)\n",
      "24/01/07 13:24:31 WARN MemoryStore: Not enough space to cache rdd_268_0 in memory! (computed 33.0 MiB so far)\n"
     ]
    },
    {
     "name": "stderr",
     "output_type": "stream",
     "text": [
      "\r",
      "[Stage 109:==============>                                          (2 + 2) / 8]\r"
     ]
    },
    {
     "name": "stdout",
     "output_type": "stream",
     "text": [
      "24/01/07 13:24:32 WARN MemoryStore: Not enough space to cache rdd_268_2 in memory! (computed 65.0 MiB so far)\n",
      "24/01/07 13:24:32 WARN MemoryStore: Not enough space to cache rdd_268_3 in memory! (computed 17.0 MiB so far)\n"
     ]
    },
    {
     "name": "stderr",
     "output_type": "stream",
     "text": [
      "\r",
      "[Stage 109:============================>                            (4 + 2) / 8]\r"
     ]
    },
    {
     "name": "stdout",
     "output_type": "stream",
     "text": [
      "24/01/07 13:24:32 WARN MemoryStore: Not enough space to cache rdd_268_4 in memory! (computed 65.0 MiB so far)\n"
     ]
    },
    {
     "name": "stderr",
     "output_type": "stream",
     "text": [
      "[Stage 113:==============>                                          (2 + 2) / 8]\r"
     ]
    },
    {
     "name": "stdout",
     "output_type": "stream",
     "text": [
      "24/01/07 13:26:10 WARN MemoryStore: Not enough space to cache rdd_350_2 in memory! (computed 33.0 MiB so far)\n",
      "24/01/07 13:26:10 WARN BlockManager: Persisting block rdd_350_2 to disk instead.\n",
      "24/01/07 13:26:12 WARN MemoryStore: Not enough space to cache rdd_350_3 in memory! (computed 33.0 MiB so far)\n",
      "24/01/07 13:26:12 WARN BlockManager: Persisting block rdd_350_3 to disk instead.\n",
      "24/01/07 13:26:15 WARN MemoryStore: Not enough space to cache rdd_350_2 in memory! (computed 113.0 MiB so far)\n"
     ]
    },
    {
     "name": "stderr",
     "output_type": "stream",
     "text": [
      "[Stage 113:============================>                            (4 + 2) / 8]\r"
     ]
    },
    {
     "name": "stdout",
     "output_type": "stream",
     "text": [
      "24/01/07 13:26:34 WARN MemoryStore: Not enough space to cache rdd_350_5 in memory! (computed 65.0 MiB so far)\n",
      "24/01/07 13:26:34 WARN BlockManager: Persisting block rdd_350_5 to disk instead.\n",
      "24/01/07 13:26:34 WARN MemoryStore: Not enough space to cache rdd_350_4 in memory! (computed 113.0 MiB so far)\n",
      "24/01/07 13:26:34 WARN BlockManager: Persisting block rdd_350_4 to disk instead.\n",
      "24/01/07 13:26:37 WARN MemoryStore: Not enough space to cache rdd_350_4 in memory! (computed 113.0 MiB so far)\n"
     ]
    },
    {
     "name": "stderr",
     "output_type": "stream",
     "text": [
      "\r",
      "[Stage 113:===================================>                     (5 + 2) / 8]\r"
     ]
    },
    {
     "name": "stdout",
     "output_type": "stream",
     "text": [
      "24/01/07 13:26:38 WARN MemoryStore: Not enough space to cache rdd_350_5 in memory! (computed 113.0 MiB so far)\n"
     ]
    },
    {
     "name": "stderr",
     "output_type": "stream",
     "text": [
      "[Stage 113:=================================================>       (7 + 1) / 8]\r"
     ]
    },
    {
     "name": "stdout",
     "output_type": "stream",
     "text": [
      "24/01/07 13:26:51 WARN MemoryStore: Not enough space to cache rdd_350_6 in memory! (computed 113.0 MiB so far)\n",
      "24/01/07 13:26:51 WARN BlockManager: Persisting block rdd_350_6 to disk instead.\n"
     ]
    },
    {
     "name": "stderr",
     "output_type": "stream",
     "text": [
      "\r",
      "                                                                                \r"
     ]
    },
    {
     "name": "stdout",
     "output_type": "stream",
     "text": [
      "24/01/07 13:26:53 WARN MemoryStore: Not enough space to cache rdd_350_1 in memory! (computed 113.0 MiB so far)\n",
      "24/01/07 13:26:53 WARN MemoryStore: Not enough space to cache rdd_350_0 in memory! (computed 113.0 MiB so far)\n"
     ]
    },
    {
     "name": "stderr",
     "output_type": "stream",
     "text": [
      "[Stage 115:==============>                                          (2 + 2) / 8]\r"
     ]
    },
    {
     "name": "stdout",
     "output_type": "stream",
     "text": [
      "24/01/07 13:26:54 WARN MemoryStore: Not enough space to cache rdd_350_2 in memory! (computed 113.0 MiB so far)\n",
      "24/01/07 13:26:54 WARN MemoryStore: Not enough space to cache rdd_350_3 in memory! (computed 113.0 MiB so far)\n"
     ]
    },
    {
     "name": "stderr",
     "output_type": "stream",
     "text": [
      "[Stage 115:===================================>                     (5 + 2) / 8]\r"
     ]
    },
    {
     "name": "stdout",
     "output_type": "stream",
     "text": [
      "24/01/07 13:26:55 WARN MemoryStore: Not enough space to cache rdd_350_5 in memory! (computed 65.0 MiB so far)\n"
     ]
    },
    {
     "name": "stderr",
     "output_type": "stream",
     "text": [
      "                                                                                \r"
     ]
    },
    {
     "name": "stdout",
     "output_type": "stream",
     "text": [
      "24/01/07 13:26:55 WARN MemoryStore: Not enough space to cache rdd_350_0 in memory! (computed 33.0 MiB so far)\n",
      "24/01/07 13:26:55 WARN MemoryStore: Not enough space to cache rdd_350_1 in memory! (computed 33.0 MiB so far)\n",
      "24/01/07 13:26:56 WARN MemoryStore: Not enough space to cache rdd_350_2 in memory! (computed 65.0 MiB so far)\n",
      "24/01/07 13:26:56 WARN MemoryStore: Not enough space to cache rdd_350_3 in memory! (computed 17.0 MiB so far)\n"
     ]
    },
    {
     "name": "stderr",
     "output_type": "stream",
     "text": [
      "[Stage 117:==========================================>              (6 + 2) / 8]\r"
     ]
    },
    {
     "name": "stdout",
     "output_type": "stream",
     "text": [
      "24/01/07 13:26:56 WARN MemoryStore: Not enough space to cache rdd_350_5 in memory! (computed 65.0 MiB so far)\n"
     ]
    },
    {
     "name": "stderr",
     "output_type": "stream",
     "text": [
      "\r",
      "                                                                                \r"
     ]
    },
    {
     "name": "stdout",
     "output_type": "stream",
     "text": [
      "24/01/07 13:26:57 WARN MemoryStore: Not enough space to cache rdd_350_0 in memory! (computed 33.0 MiB so far)\n",
      "24/01/07 13:26:57 WARN MemoryStore: Not enough space to cache rdd_350_1 in memory! (computed 33.0 MiB so far)\n",
      "24/01/07 13:26:57 WARN MemoryStore: Not enough space to cache rdd_350_2 in memory! (computed 33.0 MiB so far)\n",
      "24/01/07 13:26:57 WARN MemoryStore: Not enough space to cache rdd_350_3 in memory! (computed 33.0 MiB so far)\n"
     ]
    },
    {
     "name": "stderr",
     "output_type": "stream",
     "text": [
      "[Stage 119:============================>                            (4 + 2) / 8]\r"
     ]
    },
    {
     "name": "stdout",
     "output_type": "stream",
     "text": [
      "24/01/07 13:26:57 WARN MemoryStore: Not enough space to cache rdd_350_5 in memory! (computed 65.0 MiB so far)\n"
     ]
    },
    {
     "name": "stderr",
     "output_type": "stream",
     "text": [
      "                                                                                \r"
     ]
    },
    {
     "name": "stdout",
     "output_type": "stream",
     "text": [
      "24/01/07 13:26:58 WARN MemoryStore: Not enough space to cache rdd_350_1 in memory! (computed 33.0 MiB so far)\n",
      "24/01/07 13:26:58 WARN MemoryStore: Not enough space to cache rdd_350_0 in memory! (computed 33.0 MiB so far)\n",
      "24/01/07 13:26:58 WARN MemoryStore: Not enough space to cache rdd_350_3 in memory! (computed 17.0 MiB so far)\n",
      "24/01/07 13:26:58 WARN MemoryStore: Not enough space to cache rdd_350_2 in memory! (computed 65.0 MiB so far)\n"
     ]
    },
    {
     "name": "stderr",
     "output_type": "stream",
     "text": [
      "\r",
      "[Stage 121:==============>                                          (2 + 2) / 8]\r"
     ]
    },
    {
     "name": "stdout",
     "output_type": "stream",
     "text": [
      "24/01/07 13:26:59 WARN MemoryStore: Not enough space to cache rdd_350_5 in memory! (computed 65.0 MiB so far)\n"
     ]
    },
    {
     "name": "stderr",
     "output_type": "stream",
     "text": [
      "                                                                                \r"
     ]
    },
    {
     "name": "stdout",
     "output_type": "stream",
     "text": [
      "24/01/07 13:26:59 WARN MemoryStore: Not enough space to cache rdd_350_1 in memory! (computed 33.0 MiB so far)\n",
      "24/01/07 13:26:59 WARN MemoryStore: Not enough space to cache rdd_350_0 in memory! (computed 33.0 MiB so far)\n",
      "24/01/07 13:27:00 WARN MemoryStore: Not enough space to cache rdd_350_3 in memory! (computed 17.0 MiB so far)\n",
      "24/01/07 13:27:00 WARN MemoryStore: Not enough space to cache rdd_350_2 in memory! (computed 65.0 MiB so far)\n"
     ]
    },
    {
     "name": "stderr",
     "output_type": "stream",
     "text": [
      "\r",
      "[Stage 123:==============>                                          (2 + 2) / 8]\r"
     ]
    },
    {
     "name": "stdout",
     "output_type": "stream",
     "text": [
      "24/01/07 13:27:00 WARN MemoryStore: Not enough space to cache rdd_350_5 in memory! (computed 65.0 MiB so far)\n"
     ]
    },
    {
     "name": "stderr",
     "output_type": "stream",
     "text": [
      "                                                                                \r"
     ]
    },
    {
     "name": "stdout",
     "output_type": "stream",
     "text": [
      "24/01/07 13:27:00 WARN MemoryStore: Not enough space to cache rdd_350_0 in memory! (computed 33.0 MiB so far)\n",
      "24/01/07 13:27:01 WARN MemoryStore: Not enough space to cache rdd_350_1 in memory! (computed 33.0 MiB so far)\n",
      "24/01/07 13:27:01 WARN MemoryStore: Not enough space to cache rdd_350_2 in memory! (computed 33.0 MiB so far)\n",
      "24/01/07 13:27:01 WARN MemoryStore: Not enough space to cache rdd_350_3 in memory! (computed 33.0 MiB so far)\n"
     ]
    },
    {
     "name": "stderr",
     "output_type": "stream",
     "text": [
      "[Stage 125:============================>                            (4 + 2) / 8]\r"
     ]
    },
    {
     "name": "stdout",
     "output_type": "stream",
     "text": [
      "24/01/07 13:27:01 WARN MemoryStore: Not enough space to cache rdd_350_5 in memory! (computed 65.0 MiB so far)\n"
     ]
    },
    {
     "name": "stderr",
     "output_type": "stream",
     "text": [
      "                                                                                \r"
     ]
    },
    {
     "name": "stdout",
     "output_type": "stream",
     "text": [
      "24/01/07 13:27:02 WARN MemoryStore: Not enough space to cache rdd_350_1 in memory! (computed 33.0 MiB so far)\n",
      "24/01/07 13:27:02 WARN MemoryStore: Not enough space to cache rdd_350_0 in memory! (computed 33.0 MiB so far)\n",
      "24/01/07 13:27:02 WARN MemoryStore: Not enough space to cache rdd_350_2 in memory! (computed 65.0 MiB so far)\n",
      "24/01/07 13:27:02 WARN MemoryStore: Not enough space to cache rdd_350_3 in memory! (computed 17.0 MiB so far)\n"
     ]
    },
    {
     "name": "stderr",
     "output_type": "stream",
     "text": [
      "[Stage 127:===================================>                     (5 + 2) / 8]\r"
     ]
    },
    {
     "name": "stdout",
     "output_type": "stream",
     "text": [
      "24/01/07 13:27:03 WARN MemoryStore: Not enough space to cache rdd_350_5 in memory! (computed 65.0 MiB so far)\n"
     ]
    },
    {
     "name": "stderr",
     "output_type": "stream",
     "text": [
      "\r",
      "[Stage 127:==========================================>              (6 + 2) / 8]\r",
      "\r",
      "                                                                                \r"
     ]
    },
    {
     "name": "stdout",
     "output_type": "stream",
     "text": [
      "24/01/07 13:27:03 WARN MemoryStore: Not enough space to cache rdd_350_0 in memory! (computed 33.0 MiB so far)\n",
      "24/01/07 13:27:03 WARN MemoryStore: Not enough space to cache rdd_350_1 in memory! (computed 33.0 MiB so far)\n",
      "24/01/07 13:27:04 WARN MemoryStore: Not enough space to cache rdd_350_2 in memory! (computed 33.0 MiB so far)\n",
      "24/01/07 13:27:04 WARN MemoryStore: Not enough space to cache rdd_350_3 in memory! (computed 33.0 MiB so far)\n"
     ]
    },
    {
     "name": "stderr",
     "output_type": "stream",
     "text": [
      "[Stage 129:===================================>                     (5 + 2) / 8]\r"
     ]
    },
    {
     "name": "stdout",
     "output_type": "stream",
     "text": [
      "24/01/07 13:27:04 WARN MemoryStore: Not enough space to cache rdd_350_5 in memory! (computed 65.0 MiB so far)\n"
     ]
    },
    {
     "name": "stderr",
     "output_type": "stream",
     "text": [
      "\r",
      "[Stage 129:=================================================>       (7 + 1) / 8]\r",
      "\r",
      "                                                                                \r"
     ]
    },
    {
     "name": "stdout",
     "output_type": "stream",
     "text": [
      "24/01/07 13:27:05 WARN MemoryStore: Not enough space to cache rdd_350_1 in memory! (computed 33.0 MiB so far)\n",
      "24/01/07 13:27:05 WARN MemoryStore: Not enough space to cache rdd_350_0 in memory! (computed 33.0 MiB so far)\n",
      "24/01/07 13:27:05 WARN MemoryStore: Not enough space to cache rdd_350_2 in memory! (computed 65.0 MiB so far)\n",
      "24/01/07 13:27:05 WARN MemoryStore: Not enough space to cache rdd_350_3 in memory! (computed 17.0 MiB so far)\n"
     ]
    },
    {
     "name": "stderr",
     "output_type": "stream",
     "text": [
      "[Stage 131:===================================>                     (5 + 2) / 8]\r"
     ]
    },
    {
     "name": "stdout",
     "output_type": "stream",
     "text": [
      "24/01/07 13:27:06 WARN MemoryStore: Not enough space to cache rdd_350_5 in memory! (computed 65.0 MiB so far)\n"
     ]
    },
    {
     "name": "stderr",
     "output_type": "stream",
     "text": [
      "\r",
      "[Stage 131:=================================================>       (7 + 1) / 8]\r",
      "\r",
      "                                                                                \r"
     ]
    },
    {
     "name": "stdout",
     "output_type": "stream",
     "text": [
      "24/01/07 13:27:06 WARN MemoryStore: Not enough space to cache rdd_350_1 in memory! (computed 33.0 MiB so far)\n",
      "24/01/07 13:27:06 WARN MemoryStore: Not enough space to cache rdd_350_0 in memory! (computed 33.0 MiB so far)\n"
     ]
    },
    {
     "name": "stderr",
     "output_type": "stream",
     "text": [
      "\r",
      "[Stage 133:>                                                        (0 + 2) / 8]\r"
     ]
    },
    {
     "name": "stdout",
     "output_type": "stream",
     "text": [
      "24/01/07 13:27:07 WARN MemoryStore: Not enough space to cache rdd_350_2 in memory! (computed 17.0 MiB so far)\n",
      "24/01/07 13:27:07 WARN MemoryStore: Not enough space to cache rdd_350_3 in memory! (computed 65.0 MiB so far)\n"
     ]
    },
    {
     "name": "stderr",
     "output_type": "stream",
     "text": [
      "[Stage 133:============================>                            (4 + 2) / 8]\r"
     ]
    },
    {
     "name": "stdout",
     "output_type": "stream",
     "text": [
      "24/01/07 13:27:08 WARN MemoryStore: Not enough space to cache rdd_350_5 in memory! (computed 65.0 MiB so far)\n"
     ]
    },
    {
     "name": "stderr",
     "output_type": "stream",
     "text": [
      "\r",
      "[Stage 133:===================================>                     (5 + 2) / 8]\r",
      "\r",
      "                                                                                \r"
     ]
    },
    {
     "name": "stdout",
     "output_type": "stream",
     "text": [
      "24/01/07 13:27:08 WARN MemoryStore: Not enough space to cache rdd_350_0 in memory! (computed 33.0 MiB so far)\n",
      "24/01/07 13:27:08 WARN MemoryStore: Not enough space to cache rdd_350_1 in memory! (computed 33.0 MiB so far)\n",
      "24/01/07 13:27:09 WARN MemoryStore: Not enough space to cache rdd_350_2 in memory! (computed 65.0 MiB so far)\n",
      "24/01/07 13:27:09 WARN MemoryStore: Not enough space to cache rdd_350_3 in memory! (computed 17.0 MiB so far)\n"
     ]
    },
    {
     "name": "stderr",
     "output_type": "stream",
     "text": [
      "\r",
      "[Stage 135:==============>                                          (2 + 2) / 8]\r",
      "\r",
      "[Stage 135:============================>                            (4 + 2) / 8]\r"
     ]
    },
    {
     "name": "stdout",
     "output_type": "stream",
     "text": [
      "24/01/07 13:27:09 WARN MemoryStore: Not enough space to cache rdd_350_5 in memory! (computed 65.0 MiB so far)\n"
     ]
    },
    {
     "name": "stderr",
     "output_type": "stream",
     "text": [
      "\r",
      "[Stage 135:===================================>                     (5 + 2) / 8]\r",
      "\r",
      "                                                                                \r"
     ]
    },
    {
     "name": "stdout",
     "output_type": "stream",
     "text": [
      "24/01/07 13:27:09 WARN MemoryStore: Not enough space to cache rdd_350_1 in memory! (computed 33.0 MiB so far)\n",
      "24/01/07 13:27:09 WARN MemoryStore: Not enough space to cache rdd_350_0 in memory! (computed 33.0 MiB so far)\n",
      "24/01/07 13:27:10 WARN MemoryStore: Not enough space to cache rdd_350_2 in memory! (computed 33.0 MiB so far)\n",
      "24/01/07 13:27:10 WARN MemoryStore: Not enough space to cache rdd_350_3 in memory! (computed 33.0 MiB so far)\n"
     ]
    },
    {
     "name": "stderr",
     "output_type": "stream",
     "text": [
      "\r",
      "[Stage 137:==============>                                          (2 + 2) / 8]\r",
      "\r",
      "[Stage 137:============================>                            (4 + 2) / 8]\r"
     ]
    },
    {
     "name": "stdout",
     "output_type": "stream",
     "text": [
      "24/01/07 13:27:10 WARN MemoryStore: Not enough space to cache rdd_350_5 in memory! (computed 65.0 MiB so far)\n"
     ]
    },
    {
     "name": "stderr",
     "output_type": "stream",
     "text": [
      "                                                                                \r"
     ]
    }
   ],
   "source": [
    "ovr = ovr.fit(train_data)"
   ]
  },
  {
   "cell_type": "code",
   "execution_count": 22,
   "id": "0dd14193",
   "metadata": {
    "scrolled": true
   },
   "outputs": [
    {
     "name": "stderr",
     "output_type": "stream",
     "text": [
      "\r",
      "[Stage 139:>                                                        (0 + 2) / 8]\r"
     ]
    },
    {
     "name": "stdout",
     "output_type": "stream",
     "text": [
      "24/01/07 13:27:30 WARN MemoryStore: Not enough space to cache rdd_432_0 in memory! (computed 166.2 MiB so far)\n",
      "24/01/07 13:27:30 WARN BlockManager: Persisting block rdd_432_0 to disk instead.\n",
      "24/01/07 13:27:30 WARN MemoryStore: Not enough space to cache rdd_432_1 in memory! (computed 166.2 MiB so far)\n",
      "24/01/07 13:27:30 WARN BlockManager: Persisting block rdd_432_1 to disk instead.\n"
     ]
    },
    {
     "name": "stderr",
     "output_type": "stream",
     "text": [
      "[Stage 139:==============>                                          (2 + 2) / 8]\r"
     ]
    },
    {
     "name": "stdout",
     "output_type": "stream",
     "text": [
      "24/01/07 13:27:46 WARN MemoryStore: Not enough space to cache rdd_432_3 in memory! (computed 48.2 MiB so far)\n",
      "24/01/07 13:27:46 WARN BlockManager: Persisting block rdd_432_3 to disk instead.\n",
      "24/01/07 13:27:47 WARN MemoryStore: Not enough space to cache rdd_432_2 in memory! (computed 110.7 MiB so far)\n",
      "24/01/07 13:27:47 WARN BlockManager: Persisting block rdd_432_2 to disk instead.\n",
      "24/01/07 13:27:50 WARN MemoryStore: Not enough space to cache rdd_432_2 in memory! (computed 166.2 MiB so far)\n"
     ]
    },
    {
     "name": "stderr",
     "output_type": "stream",
     "text": [
      "\r",
      "[Stage 139:=====================>                                   (3 + 2) / 8]\r"
     ]
    },
    {
     "name": "stdout",
     "output_type": "stream",
     "text": [
      "24/01/07 13:27:51 WARN MemoryStore: Not enough space to cache rdd_432_3 in memory! (computed 166.2 MiB so far)\n"
     ]
    },
    {
     "name": "stderr",
     "output_type": "stream",
     "text": [
      "\r",
      "[Stage 139:============================>                            (4 + 2) / 8]\r"
     ]
    },
    {
     "name": "stdout",
     "output_type": "stream",
     "text": [
      "24/01/07 13:28:04 WARN MemoryStore: Not enough space to cache rdd_432_4 in memory! (computed 9.1 MiB so far)\n",
      "24/01/07 13:28:04 WARN BlockManager: Persisting block rdd_432_4 to disk instead.\n",
      "24/01/07 13:28:08 WARN MemoryStore: Not enough space to cache rdd_432_5 in memory! (computed 110.7 MiB so far)\n",
      "24/01/07 13:28:08 WARN BlockManager: Persisting block rdd_432_5 to disk instead.\n",
      "24/01/07 13:28:10 WARN MemoryStore: Not enough space to cache rdd_432_4 in memory! (computed 166.2 MiB so far)\n"
     ]
    },
    {
     "name": "stderr",
     "output_type": "stream",
     "text": [
      "\r",
      "[Stage 139:===================================>                     (5 + 2) / 8]\r"
     ]
    },
    {
     "name": "stdout",
     "output_type": "stream",
     "text": [
      "24/01/07 13:28:11 WARN MemoryStore: Not enough space to cache rdd_432_5 in memory! (computed 166.2 MiB so far)\n"
     ]
    },
    {
     "name": "stderr",
     "output_type": "stream",
     "text": [
      "[Stage 139:=================================================>       (7 + 1) / 8]\r"
     ]
    },
    {
     "name": "stdout",
     "output_type": "stream",
     "text": [
      "24/01/07 13:28:24 WARN MemoryStore: Not enough space to cache rdd_432_6 in memory! (computed 110.7 MiB so far)\n",
      "24/01/07 13:28:24 WARN BlockManager: Persisting block rdd_432_6 to disk instead.\n"
     ]
    },
    {
     "name": "stderr",
     "output_type": "stream",
     "text": [
      "\r",
      "                                                                                \r"
     ]
    },
    {
     "name": "stdout",
     "output_type": "stream",
     "text": [
      "24/01/07 13:28:26 WARN MemoryStore: Not enough space to cache rdd_432_1 in memory! (computed 110.7 MiB so far)\n",
      "24/01/07 13:28:26 WARN MemoryStore: Not enough space to cache rdd_432_0 in memory! (computed 48.2 MiB so far)\n"
     ]
    },
    {
     "name": "stderr",
     "output_type": "stream",
     "text": [
      "[Stage 140:=======>                                                 (1 + 2) / 8]\r"
     ]
    },
    {
     "name": "stdout",
     "output_type": "stream",
     "text": [
      "24/01/07 13:28:34 WARN MemoryStore: Not enough space to cache rdd_432_2 in memory! (computed 110.7 MiB so far)\n"
     ]
    },
    {
     "name": "stderr",
     "output_type": "stream",
     "text": [
      "\r",
      "[Stage 140:==============>                                          (2 + 2) / 8]\r"
     ]
    },
    {
     "name": "stdout",
     "output_type": "stream",
     "text": [
      "24/01/07 13:28:34 WARN MemoryStore: Not enough space to cache rdd_432_3 in memory! (computed 48.2 MiB so far)\n"
     ]
    },
    {
     "name": "stderr",
     "output_type": "stream",
     "text": [
      "\r",
      "[Stage 140:=====================>                                   (3 + 2) / 8]\r"
     ]
    },
    {
     "name": "stdout",
     "output_type": "stream",
     "text": [
      "24/01/07 13:28:40 WARN MemoryStore: Not enough space to cache rdd_432_4 in memory! (computed 110.7 MiB so far)\n"
     ]
    },
    {
     "name": "stderr",
     "output_type": "stream",
     "text": [
      "\r",
      "[Stage 140:============================>                            (4 + 2) / 8]\r"
     ]
    },
    {
     "name": "stdout",
     "output_type": "stream",
     "text": [
      "24/01/07 13:28:41 WARN MemoryStore: Not enough space to cache rdd_432_5 in memory! (computed 48.2 MiB so far)\n"
     ]
    },
    {
     "name": "stderr",
     "output_type": "stream",
     "text": [
      "                                                                                \r"
     ]
    },
    {
     "name": "stdout",
     "output_type": "stream",
     "text": [
      "24/01/07 13:28:52 WARN BLAS: Failed to load implementation from: com.github.fommil.netlib.NativeSystemBLAS\n",
      "24/01/07 13:28:52 WARN BLAS: Failed to load implementation from: com.github.fommil.netlib.NativeRefBLAS\n",
      "24/01/07 13:28:52 WARN MemoryStore: Not enough space to cache rdd_432_0 in memory! (computed 73.7 MiB so far)\n",
      "24/01/07 13:28:52 WARN MemoryStore: Not enough space to cache rdd_432_1 in memory! (computed 73.7 MiB so far)\n"
     ]
    },
    {
     "name": "stderr",
     "output_type": "stream",
     "text": [
      "\r",
      "[Stage 142:>                                                        (0 + 2) / 8]\r"
     ]
    },
    {
     "name": "stdout",
     "output_type": "stream",
     "text": [
      "24/01/07 13:28:59 WARN MemoryStore: Not enough space to cache rdd_432_2 in memory! (computed 73.7 MiB so far)\n",
      "24/01/07 13:28:59 WARN MemoryStore: Not enough space to cache rdd_432_3 in memory! (computed 73.7 MiB so far)\n"
     ]
    },
    {
     "name": "stderr",
     "output_type": "stream",
     "text": [
      "[Stage 142:=====================>                                   (3 + 2) / 8]\r"
     ]
    },
    {
     "name": "stdout",
     "output_type": "stream",
     "text": [
      "24/01/07 13:29:05 WARN MemoryStore: Not enough space to cache rdd_432_4 in memory! (computed 110.7 MiB so far)\n"
     ]
    },
    {
     "name": "stderr",
     "output_type": "stream",
     "text": [
      "\r",
      "[Stage 142:============================>                            (4 + 2) / 8]\r"
     ]
    },
    {
     "name": "stdout",
     "output_type": "stream",
     "text": [
      "24/01/07 13:29:06 WARN MemoryStore: Not enough space to cache rdd_432_5 in memory! (computed 48.2 MiB so far)\n"
     ]
    },
    {
     "name": "stderr",
     "output_type": "stream",
     "text": [
      "                                                                                \r"
     ]
    },
    {
     "name": "stdout",
     "output_type": "stream",
     "text": [
      "24/01/07 13:29:17 WARN MemoryStore: Not enough space to cache rdd_432_0 in memory! (computed 48.2 MiB so far)\n",
      "24/01/07 13:29:17 WARN MemoryStore: Not enough space to cache rdd_432_1 in memory! (computed 110.7 MiB so far)\n"
     ]
    },
    {
     "name": "stderr",
     "output_type": "stream",
     "text": [
      "[Stage 144:=======>                                                 (1 + 2) / 8]\r"
     ]
    },
    {
     "name": "stdout",
     "output_type": "stream",
     "text": [
      "24/01/07 13:29:23 WARN MemoryStore: Not enough space to cache rdd_432_2 in memory! (computed 110.7 MiB so far)\n",
      "24/01/07 13:29:23 WARN MemoryStore: Not enough space to cache rdd_432_3 in memory! (computed 48.2 MiB so far)\n"
     ]
    },
    {
     "name": "stderr",
     "output_type": "stream",
     "text": [
      "[Stage 144:=====================>                                   (3 + 2) / 8]\r"
     ]
    },
    {
     "name": "stdout",
     "output_type": "stream",
     "text": [
      "24/01/07 13:29:29 WARN MemoryStore: Not enough space to cache rdd_432_4 in memory! (computed 110.7 MiB so far)\n",
      "24/01/07 13:29:30 WARN MemoryStore: Not enough space to cache rdd_432_5 in memory! (computed 48.2 MiB so far)\n"
     ]
    },
    {
     "name": "stderr",
     "output_type": "stream",
     "text": [
      "                                                                                \r"
     ]
    },
    {
     "name": "stdout",
     "output_type": "stream",
     "text": [
      "24/01/07 13:29:41 WARN MemoryStore: Not enough space to cache rdd_432_1 in memory! (computed 48.2 MiB so far)\n",
      "24/01/07 13:29:41 WARN MemoryStore: Not enough space to cache rdd_432_0 in memory! (computed 110.7 MiB so far)\n"
     ]
    },
    {
     "name": "stderr",
     "output_type": "stream",
     "text": [
      "[Stage 146:==============>                                          (2 + 2) / 8]\r"
     ]
    },
    {
     "name": "stdout",
     "output_type": "stream",
     "text": [
      "24/01/07 13:29:47 WARN MemoryStore: Not enough space to cache rdd_432_2 in memory! (computed 110.7 MiB so far)\n",
      "24/01/07 13:29:47 WARN MemoryStore: Not enough space to cache rdd_432_3 in memory! (computed 48.2 MiB so far)\n",
      "24/01/07 13:29:53 WARN MemoryStore: Not enough space to cache rdd_432_5 in memory! (computed 48.2 MiB so far)\n",
      "24/01/07 13:29:53 WARN MemoryStore: Not enough space to cache rdd_432_4 in memory! (computed 110.7 MiB so far)\n"
     ]
    },
    {
     "name": "stderr",
     "output_type": "stream",
     "text": [
      "                                                                                \r"
     ]
    },
    {
     "name": "stdout",
     "output_type": "stream",
     "text": [
      "24/01/07 13:30:05 WARN MemoryStore: Not enough space to cache rdd_432_0 in memory! (computed 73.7 MiB so far)\n",
      "24/01/07 13:30:05 WARN MemoryStore: Not enough space to cache rdd_432_1 in memory! (computed 73.7 MiB so far)\n"
     ]
    },
    {
     "name": "stderr",
     "output_type": "stream",
     "text": [
      "[Stage 148:==============>                                          (2 + 2) / 8]\r"
     ]
    },
    {
     "name": "stdout",
     "output_type": "stream",
     "text": [
      "24/01/07 13:30:11 WARN MemoryStore: Not enough space to cache rdd_432_3 in memory! (computed 48.2 MiB so far)\n",
      "24/01/07 13:30:11 WARN MemoryStore: Not enough space to cache rdd_432_2 in memory! (computed 110.7 MiB so far)\n"
     ]
    },
    {
     "name": "stderr",
     "output_type": "stream",
     "text": [
      "\r",
      "[Stage 148:=====================>                                   (3 + 2) / 8]\r"
     ]
    },
    {
     "name": "stdout",
     "output_type": "stream",
     "text": [
      "24/01/07 13:30:17 WARN MemoryStore: Not enough space to cache rdd_432_4 in memory! (computed 110.7 MiB so far)\n",
      "24/01/07 13:30:17 WARN MemoryStore: Not enough space to cache rdd_432_5 in memory! (computed 48.2 MiB so far)\n"
     ]
    },
    {
     "name": "stderr",
     "output_type": "stream",
     "text": [
      "                                                                                \r"
     ]
    },
    {
     "name": "stdout",
     "output_type": "stream",
     "text": [
      "24/01/07 13:30:28 WARN MemoryStore: Not enough space to cache rdd_432_0 in memory! (computed 73.7 MiB so far)\n",
      "24/01/07 13:30:28 WARN MemoryStore: Not enough space to cache rdd_432_1 in memory! (computed 73.7 MiB so far)\n"
     ]
    },
    {
     "name": "stderr",
     "output_type": "stream",
     "text": [
      "\r",
      "[Stage 150:>                                                        (0 + 2) / 8]\r"
     ]
    },
    {
     "name": "stdout",
     "output_type": "stream",
     "text": [
      "24/01/07 13:30:34 WARN MemoryStore: Not enough space to cache rdd_432_3 in memory! (computed 73.7 MiB so far)\n",
      "24/01/07 13:30:34 WARN MemoryStore: Not enough space to cache rdd_432_2 in memory! (computed 73.7 MiB so far)\n"
     ]
    },
    {
     "name": "stderr",
     "output_type": "stream",
     "text": [
      "[Stage 150:=====================>                                   (3 + 2) / 8]\r"
     ]
    },
    {
     "name": "stdout",
     "output_type": "stream",
     "text": [
      "24/01/07 13:30:40 WARN MemoryStore: Not enough space to cache rdd_432_4 in memory! (computed 110.7 MiB so far)\n",
      "24/01/07 13:30:41 WARN MemoryStore: Not enough space to cache rdd_432_5 in memory! (computed 48.2 MiB so far)\n"
     ]
    },
    {
     "name": "stderr",
     "output_type": "stream",
     "text": [
      "                                                                                \r"
     ]
    },
    {
     "name": "stdout",
     "output_type": "stream",
     "text": [
      "24/01/07 13:30:52 WARN MemoryStore: Not enough space to cache rdd_432_0 in memory! (computed 48.2 MiB so far)\n",
      "24/01/07 13:30:52 WARN MemoryStore: Not enough space to cache rdd_432_1 in memory! (computed 110.7 MiB so far)\n"
     ]
    },
    {
     "name": "stderr",
     "output_type": "stream",
     "text": [
      "[Stage 152:=======>                                                 (1 + 2) / 8]\r"
     ]
    },
    {
     "name": "stdout",
     "output_type": "stream",
     "text": [
      "24/01/07 13:30:58 WARN MemoryStore: Not enough space to cache rdd_432_3 in memory! (computed 48.2 MiB so far)\n",
      "24/01/07 13:30:58 WARN MemoryStore: Not enough space to cache rdd_432_2 in memory! (computed 110.7 MiB so far)\n"
     ]
    },
    {
     "name": "stderr",
     "output_type": "stream",
     "text": [
      "[Stage 152:=====================>                                   (3 + 2) / 8]\r"
     ]
    },
    {
     "name": "stdout",
     "output_type": "stream",
     "text": [
      "24/01/07 13:31:04 WARN MemoryStore: Not enough space to cache rdd_432_4 in memory! (computed 110.7 MiB so far)\n",
      "24/01/07 13:31:04 WARN MemoryStore: Not enough space to cache rdd_432_5 in memory! (computed 48.2 MiB so far)\n"
     ]
    },
    {
     "name": "stderr",
     "output_type": "stream",
     "text": [
      "                                                                                \r"
     ]
    },
    {
     "name": "stdout",
     "output_type": "stream",
     "text": [
      "24/01/07 13:31:16 WARN MemoryStore: Not enough space to cache rdd_432_1 in memory! (computed 48.2 MiB so far)\n",
      "24/01/07 13:31:16 WARN MemoryStore: Not enough space to cache rdd_432_0 in memory! (computed 110.7 MiB so far)\n"
     ]
    },
    {
     "name": "stderr",
     "output_type": "stream",
     "text": [
      "[Stage 154:=======>                                                 (1 + 2) / 8]\r"
     ]
    },
    {
     "name": "stdout",
     "output_type": "stream",
     "text": [
      "24/01/07 13:31:22 WARN MemoryStore: Not enough space to cache rdd_432_3 in memory! (computed 48.2 MiB so far)\n",
      "24/01/07 13:31:22 WARN MemoryStore: Not enough space to cache rdd_432_2 in memory! (computed 110.7 MiB so far)\n"
     ]
    },
    {
     "name": "stderr",
     "output_type": "stream",
     "text": [
      "[Stage 154:=====================>                                   (3 + 2) / 8]\r"
     ]
    },
    {
     "name": "stdout",
     "output_type": "stream",
     "text": [
      "24/01/07 13:31:28 WARN MemoryStore: Not enough space to cache rdd_432_4 in memory! (computed 110.7 MiB so far)\n",
      "24/01/07 13:31:28 WARN MemoryStore: Not enough space to cache rdd_432_5 in memory! (computed 48.2 MiB so far)\n"
     ]
    },
    {
     "name": "stderr",
     "output_type": "stream",
     "text": [
      "                                                                                \r"
     ]
    },
    {
     "name": "stdout",
     "output_type": "stream",
     "text": [
      "24/01/07 13:31:40 WARN MemoryStore: Not enough space to cache rdd_432_0 in memory! (computed 73.7 MiB so far)\n",
      "24/01/07 13:31:40 WARN MemoryStore: Not enough space to cache rdd_432_1 in memory! (computed 73.7 MiB so far)\n"
     ]
    },
    {
     "name": "stderr",
     "output_type": "stream",
     "text": [
      "[Stage 156:=======>                                                 (1 + 2) / 8]\r"
     ]
    },
    {
     "name": "stdout",
     "output_type": "stream",
     "text": [
      "24/01/07 13:31:46 WARN MemoryStore: Not enough space to cache rdd_432_2 in memory! (computed 110.7 MiB so far)\n",
      "24/01/07 13:31:46 WARN MemoryStore: Not enough space to cache rdd_432_3 in memory! (computed 48.2 MiB so far)\n"
     ]
    },
    {
     "name": "stderr",
     "output_type": "stream",
     "text": [
      "[Stage 156:=====================>                                   (3 + 2) / 8]\r"
     ]
    },
    {
     "name": "stdout",
     "output_type": "stream",
     "text": [
      "24/01/07 13:31:52 WARN MemoryStore: Not enough space to cache rdd_432_4 in memory! (computed 110.7 MiB so far)\n",
      "24/01/07 13:31:52 WARN MemoryStore: Not enough space to cache rdd_432_5 in memory! (computed 48.2 MiB so far)\n"
     ]
    },
    {
     "name": "stderr",
     "output_type": "stream",
     "text": [
      "                                                                                \r"
     ]
    },
    {
     "name": "stdout",
     "output_type": "stream",
     "text": [
      "24/01/07 13:32:03 WARN MemoryStore: Not enough space to cache rdd_432_1 in memory! (computed 73.7 MiB so far)\n",
      "24/01/07 13:32:03 WARN MemoryStore: Not enough space to cache rdd_432_0 in memory! (computed 73.7 MiB so far)\n"
     ]
    },
    {
     "name": "stderr",
     "output_type": "stream",
     "text": [
      "[Stage 158:=======>                                                 (1 + 2) / 8]\r"
     ]
    },
    {
     "name": "stdout",
     "output_type": "stream",
     "text": [
      "24/01/07 13:32:09 WARN MemoryStore: Not enough space to cache rdd_432_2 in memory! (computed 110.7 MiB so far)\n",
      "24/01/07 13:32:10 WARN MemoryStore: Not enough space to cache rdd_432_3 in memory! (computed 48.2 MiB so far)\n"
     ]
    },
    {
     "name": "stderr",
     "output_type": "stream",
     "text": [
      "[Stage 158:=====================>                                   (3 + 2) / 8]\r"
     ]
    },
    {
     "name": "stdout",
     "output_type": "stream",
     "text": [
      "24/01/07 13:32:15 WARN MemoryStore: Not enough space to cache rdd_432_4 in memory! (computed 110.7 MiB so far)\n"
     ]
    },
    {
     "name": "stderr",
     "output_type": "stream",
     "text": [
      "\r",
      "[Stage 158:============================>                            (4 + 2) / 8]\r"
     ]
    },
    {
     "name": "stdout",
     "output_type": "stream",
     "text": [
      "24/01/07 13:32:16 WARN MemoryStore: Not enough space to cache rdd_432_5 in memory! (computed 48.2 MiB so far)\n"
     ]
    },
    {
     "name": "stderr",
     "output_type": "stream",
     "text": [
      "                                                                                \r"
     ]
    },
    {
     "name": "stdout",
     "output_type": "stream",
     "text": [
      "24/01/07 13:32:27 WARN MemoryStore: Not enough space to cache rdd_432_0 in memory! (computed 73.7 MiB so far)\n",
      "24/01/07 13:32:27 WARN MemoryStore: Not enough space to cache rdd_432_1 in memory! (computed 73.7 MiB so far)\n"
     ]
    },
    {
     "name": "stderr",
     "output_type": "stream",
     "text": [
      "\r",
      "[Stage 160:>                                                        (0 + 2) / 8]\r"
     ]
    },
    {
     "name": "stdout",
     "output_type": "stream",
     "text": [
      "24/01/07 13:32:33 WARN MemoryStore: Not enough space to cache rdd_432_2 in memory! (computed 110.7 MiB so far)\n",
      "24/01/07 13:32:33 WARN MemoryStore: Not enough space to cache rdd_432_3 in memory! (computed 48.2 MiB so far)\n"
     ]
    },
    {
     "name": "stderr",
     "output_type": "stream",
     "text": [
      "[Stage 160:=====================>                                   (3 + 2) / 8]\r"
     ]
    },
    {
     "name": "stdout",
     "output_type": "stream",
     "text": [
      "24/01/07 13:32:39 WARN MemoryStore: Not enough space to cache rdd_432_4 in memory! (computed 110.7 MiB so far)\n"
     ]
    },
    {
     "name": "stderr",
     "output_type": "stream",
     "text": [
      "\r",
      "[Stage 160:============================>                            (4 + 2) / 8]\r"
     ]
    },
    {
     "name": "stdout",
     "output_type": "stream",
     "text": [
      "24/01/07 13:32:39 WARN MemoryStore: Not enough space to cache rdd_432_5 in memory! (computed 48.2 MiB so far)\n"
     ]
    },
    {
     "name": "stderr",
     "output_type": "stream",
     "text": [
      "                                                                                \r"
     ]
    },
    {
     "name": "stdout",
     "output_type": "stream",
     "text": [
      "24/01/07 13:32:51 WARN MemoryStore: Not enough space to cache rdd_432_1 in memory! (computed 110.7 MiB so far)\n",
      "24/01/07 13:32:51 WARN MemoryStore: Not enough space to cache rdd_432_0 in memory! (computed 48.2 MiB so far)\n"
     ]
    },
    {
     "name": "stderr",
     "output_type": "stream",
     "text": [
      "[Stage 162:==============>                                          (2 + 2) / 8]\r"
     ]
    },
    {
     "name": "stdout",
     "output_type": "stream",
     "text": [
      "24/01/07 13:32:57 WARN MemoryStore: Not enough space to cache rdd_432_2 in memory! (computed 73.7 MiB so far)\n",
      "24/01/07 13:32:57 WARN MemoryStore: Not enough space to cache rdd_432_3 in memory! (computed 73.7 MiB so far)\n",
      "24/01/07 13:33:03 WARN MemoryStore: Not enough space to cache rdd_432_4 in memory! (computed 110.7 MiB so far)\n"
     ]
    },
    {
     "name": "stderr",
     "output_type": "stream",
     "text": [
      "[Stage 162:============================>                            (4 + 2) / 8]\r"
     ]
    },
    {
     "name": "stdout",
     "output_type": "stream",
     "text": [
      "24/01/07 13:33:04 WARN MemoryStore: Not enough space to cache rdd_432_5 in memory! (computed 48.2 MiB so far)\n"
     ]
    },
    {
     "name": "stderr",
     "output_type": "stream",
     "text": [
      "                                                                                \r"
     ]
    },
    {
     "name": "stdout",
     "output_type": "stream",
     "text": [
      "24/01/07 13:33:15 WARN MemoryStore: Not enough space to cache rdd_432_1 in memory! (computed 110.7 MiB so far)\n",
      "24/01/07 13:33:15 WARN MemoryStore: Not enough space to cache rdd_432_0 in memory! (computed 48.2 MiB so far)\n"
     ]
    },
    {
     "name": "stderr",
     "output_type": "stream",
     "text": [
      "\r",
      "[Stage 164:>                                                        (0 + 2) / 8]\r"
     ]
    },
    {
     "name": "stdout",
     "output_type": "stream",
     "text": [
      "24/01/07 13:33:21 WARN MemoryStore: Not enough space to cache rdd_432_2 in memory! (computed 73.7 MiB so far)\n",
      "24/01/07 13:33:21 WARN MemoryStore: Not enough space to cache rdd_432_3 in memory! (computed 73.7 MiB so far)\n"
     ]
    },
    {
     "name": "stderr",
     "output_type": "stream",
     "text": [
      "[Stage 164:=====================>                                   (3 + 2) / 8]\r"
     ]
    },
    {
     "name": "stdout",
     "output_type": "stream",
     "text": [
      "24/01/07 13:33:27 WARN MemoryStore: Not enough space to cache rdd_432_4 in memory! (computed 110.7 MiB so far)\n",
      "24/01/07 13:33:27 WARN MemoryStore: Not enough space to cache rdd_432_5 in memory! (computed 48.2 MiB so far)\n"
     ]
    },
    {
     "name": "stderr",
     "output_type": "stream",
     "text": [
      "                                                                                \r"
     ]
    },
    {
     "name": "stdout",
     "output_type": "stream",
     "text": [
      "24/01/07 13:33:39 WARN MemoryStore: Not enough space to cache rdd_432_1 in memory! (computed 73.7 MiB so far)\n",
      "24/01/07 13:33:39 WARN MemoryStore: Not enough space to cache rdd_432_0 in memory! (computed 73.7 MiB so far)\n"
     ]
    },
    {
     "name": "stderr",
     "output_type": "stream",
     "text": [
      "[Stage 166:=======>                                                 (1 + 2) / 8]\r"
     ]
    },
    {
     "name": "stdout",
     "output_type": "stream",
     "text": [
      "24/01/07 13:33:45 WARN MemoryStore: Not enough space to cache rdd_432_2 in memory! (computed 110.7 MiB so far)\n",
      "24/01/07 13:33:45 WARN MemoryStore: Not enough space to cache rdd_432_3 in memory! (computed 48.2 MiB so far)\n"
     ]
    },
    {
     "name": "stderr",
     "output_type": "stream",
     "text": [
      "[Stage 166:=====================>                                   (3 + 2) / 8]\r"
     ]
    },
    {
     "name": "stdout",
     "output_type": "stream",
     "text": [
      "24/01/07 13:33:51 WARN MemoryStore: Not enough space to cache rdd_432_4 in memory! (computed 110.7 MiB so far)\n",
      "24/01/07 13:33:51 WARN MemoryStore: Not enough space to cache rdd_432_5 in memory! (computed 48.2 MiB so far)\n"
     ]
    },
    {
     "name": "stderr",
     "output_type": "stream",
     "text": [
      "                                                                                \r"
     ]
    },
    {
     "name": "stdout",
     "output_type": "stream",
     "text": [
      "24/01/07 13:34:02 WARN MemoryStore: Not enough space to cache rdd_432_0 in memory! (computed 73.7 MiB so far)\n",
      "24/01/07 13:34:02 WARN MemoryStore: Not enough space to cache rdd_432_1 in memory! (computed 73.7 MiB so far)\n"
     ]
    },
    {
     "name": "stderr",
     "output_type": "stream",
     "text": [
      "[Stage 168:==============>                                          (2 + 2) / 8]\r"
     ]
    },
    {
     "name": "stdout",
     "output_type": "stream",
     "text": [
      "24/01/07 13:34:09 WARN MemoryStore: Not enough space to cache rdd_432_3 in memory! (computed 73.7 MiB so far)\n",
      "24/01/07 13:34:09 WARN MemoryStore: Not enough space to cache rdd_432_2 in memory! (computed 73.7 MiB so far)\n",
      "24/01/07 13:34:15 WARN MemoryStore: Not enough space to cache rdd_432_4 in memory! (computed 73.7 MiB so far)\n",
      "24/01/07 13:34:15 WARN MemoryStore: Not enough space to cache rdd_432_5 in memory! (computed 73.7 MiB so far)\n"
     ]
    },
    {
     "name": "stderr",
     "output_type": "stream",
     "text": [
      "                                                                                \r"
     ]
    },
    {
     "name": "stdout",
     "output_type": "stream",
     "text": [
      "24/01/07 13:34:26 WARN MemoryStore: Not enough space to cache rdd_432_0 in memory! (computed 73.7 MiB so far)\n",
      "24/01/07 13:34:26 WARN MemoryStore: Not enough space to cache rdd_432_1 in memory! (computed 73.7 MiB so far)\n"
     ]
    },
    {
     "name": "stderr",
     "output_type": "stream",
     "text": [
      "[Stage 170:==============>                                          (2 + 2) / 8]\r"
     ]
    },
    {
     "name": "stdout",
     "output_type": "stream",
     "text": [
      "24/01/07 13:34:32 WARN MemoryStore: Not enough space to cache rdd_432_2 in memory! (computed 73.7 MiB so far)\n",
      "24/01/07 13:34:32 WARN MemoryStore: Not enough space to cache rdd_432_3 in memory! (computed 73.7 MiB so far)\n",
      "24/01/07 13:34:38 WARN MemoryStore: Not enough space to cache rdd_432_5 in memory! (computed 48.2 MiB so far)\n",
      "24/01/07 13:34:38 WARN MemoryStore: Not enough space to cache rdd_432_4 in memory! (computed 110.7 MiB so far)\n"
     ]
    },
    {
     "name": "stderr",
     "output_type": "stream",
     "text": [
      "                                                                                \r"
     ]
    },
    {
     "name": "stdout",
     "output_type": "stream",
     "text": [
      "24/01/07 13:34:50 WARN MemoryStore: Not enough space to cache rdd_432_0 in memory! (computed 73.7 MiB so far)\n",
      "24/01/07 13:34:50 WARN MemoryStore: Not enough space to cache rdd_432_1 in memory! (computed 73.7 MiB so far)\n"
     ]
    },
    {
     "name": "stderr",
     "output_type": "stream",
     "text": [
      "[Stage 172:=======>                                                 (1 + 2) / 8]\r"
     ]
    },
    {
     "name": "stdout",
     "output_type": "stream",
     "text": [
      "24/01/07 13:34:56 WARN MemoryStore: Not enough space to cache rdd_432_2 in memory! (computed 110.7 MiB so far)\n"
     ]
    },
    {
     "name": "stderr",
     "output_type": "stream",
     "text": [
      "\r",
      "[Stage 172:==============>                                          (2 + 2) / 8]\r"
     ]
    },
    {
     "name": "stdout",
     "output_type": "stream",
     "text": [
      "24/01/07 13:34:57 WARN MemoryStore: Not enough space to cache rdd_432_3 in memory! (computed 48.2 MiB so far)\n"
     ]
    },
    {
     "name": "stderr",
     "output_type": "stream",
     "text": [
      "\r",
      "[Stage 172:=====================>                                   (3 + 2) / 8]\r"
     ]
    },
    {
     "name": "stdout",
     "output_type": "stream",
     "text": [
      "24/01/07 13:35:03 WARN MemoryStore: Not enough space to cache rdd_432_4 in memory! (computed 110.7 MiB so far)\n"
     ]
    },
    {
     "name": "stderr",
     "output_type": "stream",
     "text": [
      "\r",
      "[Stage 172:============================>                            (4 + 2) / 8]\r"
     ]
    },
    {
     "name": "stdout",
     "output_type": "stream",
     "text": [
      "24/01/07 13:35:03 WARN MemoryStore: Not enough space to cache rdd_432_5 in memory! (computed 48.2 MiB so far)\n"
     ]
    },
    {
     "name": "stderr",
     "output_type": "stream",
     "text": [
      "                                                                                \r"
     ]
    },
    {
     "name": "stdout",
     "output_type": "stream",
     "text": [
      "24/01/07 13:35:15 WARN MemoryStore: Not enough space to cache rdd_432_0 in memory! (computed 48.2 MiB so far)\n",
      "24/01/07 13:35:15 WARN MemoryStore: Not enough space to cache rdd_432_1 in memory! (computed 110.7 MiB so far)\n"
     ]
    },
    {
     "name": "stderr",
     "output_type": "stream",
     "text": [
      "[Stage 174:=======>                                                 (1 + 2) / 8]\r"
     ]
    },
    {
     "name": "stdout",
     "output_type": "stream",
     "text": [
      "24/01/07 13:35:21 WARN MemoryStore: Not enough space to cache rdd_432_2 in memory! (computed 110.7 MiB so far)\n",
      "24/01/07 13:35:21 WARN MemoryStore: Not enough space to cache rdd_432_3 in memory! (computed 48.2 MiB so far)\n"
     ]
    },
    {
     "name": "stderr",
     "output_type": "stream",
     "text": [
      "\r",
      "[Stage 174:==============>                                          (2 + 2) / 8]\r"
     ]
    },
    {
     "name": "stdout",
     "output_type": "stream",
     "text": [
      "24/01/07 13:35:27 WARN MemoryStore: Not enough space to cache rdd_432_4 in memory! (computed 110.7 MiB so far)\n"
     ]
    },
    {
     "name": "stderr",
     "output_type": "stream",
     "text": [
      "[Stage 174:============================>                            (4 + 2) / 8]\r"
     ]
    },
    {
     "name": "stdout",
     "output_type": "stream",
     "text": [
      "24/01/07 13:35:27 WARN MemoryStore: Not enough space to cache rdd_432_5 in memory! (computed 48.2 MiB so far)\n"
     ]
    },
    {
     "name": "stderr",
     "output_type": "stream",
     "text": [
      "                                                                                \r"
     ]
    },
    {
     "name": "stdout",
     "output_type": "stream",
     "text": [
      "24/01/07 13:35:39 WARN MemoryStore: Not enough space to cache rdd_432_1 in memory! (computed 73.7 MiB so far)\n",
      "24/01/07 13:35:39 WARN MemoryStore: Not enough space to cache rdd_432_0 in memory! (computed 73.7 MiB so far)\n"
     ]
    },
    {
     "name": "stderr",
     "output_type": "stream",
     "text": [
      "[Stage 176:==============>                                          (2 + 2) / 8]\r"
     ]
    },
    {
     "name": "stdout",
     "output_type": "stream",
     "text": [
      "24/01/07 13:35:45 WARN MemoryStore: Not enough space to cache rdd_432_3 in memory! (computed 48.2 MiB so far)\n",
      "24/01/07 13:35:45 WARN MemoryStore: Not enough space to cache rdd_432_2 in memory! (computed 110.7 MiB so far)\n"
     ]
    },
    {
     "name": "stderr",
     "output_type": "stream",
     "text": [
      "\r",
      "[Stage 176:=====================>                                   (3 + 2) / 8]\r"
     ]
    },
    {
     "name": "stdout",
     "output_type": "stream",
     "text": [
      "24/01/07 13:35:51 WARN MemoryStore: Not enough space to cache rdd_432_4 in memory! (computed 110.7 MiB so far)\n",
      "24/01/07 13:35:51 WARN MemoryStore: Not enough space to cache rdd_432_5 in memory! (computed 48.2 MiB so far)\n"
     ]
    },
    {
     "name": "stderr",
     "output_type": "stream",
     "text": [
      "                                                                                \r"
     ]
    },
    {
     "name": "stdout",
     "output_type": "stream",
     "text": [
      "24/01/07 13:36:03 WARN MemoryStore: Not enough space to cache rdd_432_1 in memory! (computed 73.7 MiB so far)\n",
      "24/01/07 13:36:03 WARN MemoryStore: Not enough space to cache rdd_432_0 in memory! (computed 73.7 MiB so far)\n"
     ]
    },
    {
     "name": "stderr",
     "output_type": "stream",
     "text": [
      "[Stage 178:==============>                                          (2 + 2) / 8]\r"
     ]
    },
    {
     "name": "stdout",
     "output_type": "stream",
     "text": [
      "24/01/07 13:36:09 WARN MemoryStore: Not enough space to cache rdd_432_2 in memory! (computed 110.7 MiB so far)\n",
      "24/01/07 13:36:09 WARN MemoryStore: Not enough space to cache rdd_432_3 in memory! (computed 48.2 MiB so far)\n"
     ]
    },
    {
     "name": "stderr",
     "output_type": "stream",
     "text": [
      "\r",
      "[Stage 178:=====================>                                   (3 + 2) / 8]\r"
     ]
    },
    {
     "name": "stdout",
     "output_type": "stream",
     "text": [
      "24/01/07 13:36:15 WARN MemoryStore: Not enough space to cache rdd_432_4 in memory! (computed 110.7 MiB so far)\n"
     ]
    },
    {
     "name": "stderr",
     "output_type": "stream",
     "text": [
      "\r",
      "[Stage 178:============================>                            (4 + 2) / 8]\r"
     ]
    },
    {
     "name": "stdout",
     "output_type": "stream",
     "text": [
      "24/01/07 13:36:15 WARN MemoryStore: Not enough space to cache rdd_432_5 in memory! (computed 48.2 MiB so far)\n"
     ]
    },
    {
     "name": "stderr",
     "output_type": "stream",
     "text": [
      "                                                                                \r"
     ]
    },
    {
     "name": "stdout",
     "output_type": "stream",
     "text": [
      "24/01/07 13:36:26 WARN MemoryStore: Not enough space to cache rdd_432_1 in memory! (computed 73.7 MiB so far)\n",
      "24/01/07 13:36:26 WARN MemoryStore: Not enough space to cache rdd_432_0 in memory! (computed 73.7 MiB so far)\n"
     ]
    },
    {
     "name": "stderr",
     "output_type": "stream",
     "text": [
      "[Stage 180:==============>                                          (2 + 2) / 8]\r"
     ]
    },
    {
     "name": "stdout",
     "output_type": "stream",
     "text": [
      "24/01/07 13:36:32 WARN MemoryStore: Not enough space to cache rdd_432_3 in memory! (computed 48.2 MiB so far)\n",
      "24/01/07 13:36:32 WARN MemoryStore: Not enough space to cache rdd_432_2 in memory! (computed 110.7 MiB so far)\n",
      "24/01/07 13:36:38 WARN MemoryStore: Not enough space to cache rdd_432_4 in memory! (computed 73.7 MiB so far)\n",
      "24/01/07 13:36:38 WARN MemoryStore: Not enough space to cache rdd_432_5 in memory! (computed 73.7 MiB so far)\n"
     ]
    },
    {
     "name": "stderr",
     "output_type": "stream",
     "text": [
      "                                                                                \r"
     ]
    },
    {
     "name": "stdout",
     "output_type": "stream",
     "text": [
      "24/01/07 13:36:50 WARN MemoryStore: Not enough space to cache rdd_432_0 in memory! (computed 73.7 MiB so far)\n",
      "24/01/07 13:36:50 WARN MemoryStore: Not enough space to cache rdd_432_1 in memory! (computed 73.7 MiB so far)\n"
     ]
    },
    {
     "name": "stderr",
     "output_type": "stream",
     "text": [
      "[Stage 182:=======>                                                 (1 + 2) / 8]\r"
     ]
    },
    {
     "name": "stdout",
     "output_type": "stream",
     "text": [
      "24/01/07 13:36:56 WARN MemoryStore: Not enough space to cache rdd_432_2 in memory! (computed 110.7 MiB so far)\n",
      "24/01/07 13:36:56 WARN MemoryStore: Not enough space to cache rdd_432_3 in memory! (computed 48.2 MiB so far)\n"
     ]
    },
    {
     "name": "stderr",
     "output_type": "stream",
     "text": [
      "\r",
      "[Stage 182:==============>                                          (2 + 2) / 8]\r"
     ]
    },
    {
     "name": "stdout",
     "output_type": "stream",
     "text": [
      "24/01/07 13:37:02 WARN MemoryStore: Not enough space to cache rdd_432_4 in memory! (computed 73.7 MiB so far)\n",
      "24/01/07 13:37:02 WARN MemoryStore: Not enough space to cache rdd_432_5 in memory! (computed 73.7 MiB so far)\n"
     ]
    },
    {
     "name": "stderr",
     "output_type": "stream",
     "text": [
      "                                                                                \r"
     ]
    },
    {
     "name": "stdout",
     "output_type": "stream",
     "text": [
      "24/01/07 13:37:14 WARN MemoryStore: Not enough space to cache rdd_432_1 in memory! (computed 48.2 MiB so far)\n",
      "24/01/07 13:37:14 WARN MemoryStore: Not enough space to cache rdd_432_0 in memory! (computed 110.7 MiB so far)\n"
     ]
    },
    {
     "name": "stderr",
     "output_type": "stream",
     "text": [
      "\r",
      "[Stage 184:>                                                        (0 + 2) / 8]\r"
     ]
    },
    {
     "name": "stdout",
     "output_type": "stream",
     "text": [
      "24/01/07 13:37:20 WARN MemoryStore: Not enough space to cache rdd_432_2 in memory! (computed 110.7 MiB so far)\n",
      "24/01/07 13:37:20 WARN MemoryStore: Not enough space to cache rdd_432_3 in memory! (computed 48.2 MiB so far)\n"
     ]
    },
    {
     "name": "stderr",
     "output_type": "stream",
     "text": [
      "[Stage 184:=====================>                                   (3 + 2) / 8]\r"
     ]
    },
    {
     "name": "stdout",
     "output_type": "stream",
     "text": [
      "24/01/07 13:37:26 WARN MemoryStore: Not enough space to cache rdd_432_4 in memory! (computed 110.7 MiB so far)\n",
      "24/01/07 13:37:26 WARN MemoryStore: Not enough space to cache rdd_432_5 in memory! (computed 48.2 MiB so far)\n"
     ]
    },
    {
     "name": "stderr",
     "output_type": "stream",
     "text": [
      "                                                                                \r"
     ]
    }
   ],
   "source": [
    "mlp = mlp.fit(train_data)"
   ]
  },
  {
   "cell_type": "markdown",
   "id": "f44fc5de",
   "metadata": {},
   "source": [
    "# Test ML models"
   ]
  },
  {
   "cell_type": "code",
   "execution_count": 23,
   "id": "dc6c93c2",
   "metadata": {},
   "outputs": [],
   "source": [
    "# Get the predictions from all the models for the test data\n",
    "predictions_dt = dt.transform(test_data)\n",
    "predictions_rf = rf.transform(test_data)\n",
    "predictions_nb = nb.transform(test_data)\n",
    "predictions_ovr = ovr.transform(test_data)\n",
    "predictions_mlp = mlp.transform(test_data)\n",
    "\n",
    "# List with all predictions\n",
    "predictions = [\n",
    "    predictions_dt,\n",
    "    predictions_rf,\n",
    "    predictions_nb,\n",
    "    predictions_ovr,\n",
    "    predictions_mlp\n",
    "]"
   ]
  },
  {
   "cell_type": "code",
   "execution_count": 24,
   "id": "9747e25d",
   "metadata": {},
   "outputs": [
    {
     "name": "stderr",
     "output_type": "stream",
     "text": [
      "                                                                                \r"
     ]
    }
   ],
   "source": [
    "# Create the evaluator\n",
    "evaluator = MulticlassClassificationEvaluator(labelCol='label', predictionCol='prediction', metricName='accuracy')\n",
    "\n",
    "# Get the evaluation of the metric for each prediction made by all the classifiers\n",
    "accuracy_scores = [evaluator.evaluate(prediction) for prediction in predictions]\n",
    "\n",
    "# Dictionary with the results for each classifier (helps on display later)\n",
    "results_dict = {\n",
    "    \"Classifier\": [\"Decision Tree\", 'Random Forest', 'Naive Bayes', 'Logistic Regression', 'Multilayer Perceptron'],\n",
    "    \"Accuracy\": accuracy_scores\n",
    "}"
   ]
  },
  {
   "cell_type": "code",
   "execution_count": 27,
   "id": "4ac60cbb",
   "metadata": {},
   "outputs": [
    {
     "data": {
      "text/html": [
       "<div>\n",
       "<style scoped>\n",
       "    .dataframe tbody tr th:only-of-type {\n",
       "        vertical-align: middle;\n",
       "    }\n",
       "\n",
       "    .dataframe tbody tr th {\n",
       "        vertical-align: top;\n",
       "    }\n",
       "\n",
       "    .dataframe thead th {\n",
       "        text-align: right;\n",
       "    }\n",
       "</style>\n",
       "<table border=\"1\" class=\"dataframe\">\n",
       "  <thead>\n",
       "    <tr style=\"text-align: right;\">\n",
       "      <th></th>\n",
       "      <th>Classifier</th>\n",
       "      <th>Accuracy</th>\n",
       "    </tr>\n",
       "  </thead>\n",
       "  <tbody>\n",
       "    <tr>\n",
       "      <th>0</th>\n",
       "      <td>Decision Tree</td>\n",
       "      <td>0.762597</td>\n",
       "    </tr>\n",
       "    <tr>\n",
       "      <th>1</th>\n",
       "      <td>Random Forest</td>\n",
       "      <td>0.801740</td>\n",
       "    </tr>\n",
       "    <tr>\n",
       "      <th>2</th>\n",
       "      <td>Naive Bayes</td>\n",
       "      <td>0.531165</td>\n",
       "    </tr>\n",
       "    <tr>\n",
       "      <th>3</th>\n",
       "      <td>Logistic Regression</td>\n",
       "      <td>0.553291</td>\n",
       "    </tr>\n",
       "    <tr>\n",
       "      <th>4</th>\n",
       "      <td>Multilayer Perceptron</td>\n",
       "      <td>0.553286</td>\n",
       "    </tr>\n",
       "  </tbody>\n",
       "</table>\n",
       "</div>"
      ],
      "text/plain": [
       "              Classifier  Accuracy\n",
       "0          Decision Tree  0.762597\n",
       "1          Random Forest  0.801740\n",
       "2            Naive Bayes  0.531165\n",
       "3    Logistic Regression  0.553291\n",
       "4  Multilayer Perceptron  0.553286"
      ]
     },
     "execution_count": 27,
     "metadata": {},
     "output_type": "execute_result"
    }
   ],
   "source": [
    "results_df = pd.DataFrame(results_dict)\n",
    "results_df"
   ]
  }
 ],
 "metadata": {
  "kernelspec": {
   "display_name": "Python 3 (ipykernel)",
   "language": "python",
   "name": "python3"
  },
  "language_info": {
   "codemirror_mode": {
    "name": "ipython",
    "version": 3
   },
   "file_extension": ".py",
   "mimetype": "text/x-python",
   "name": "python",
   "nbconvert_exporter": "python",
   "pygments_lexer": "ipython3",
   "version": "3.7.3"
  }
 },
 "nbformat": 4,
 "nbformat_minor": 5
}
